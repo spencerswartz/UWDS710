{
 "cells": [
  {
   "cell_type": "markdown",
   "metadata": {},
   "source": [
    "# Problem 1(a).  Reading Amazon Reviews.\n",
    "\n",
    "In this problem, we will analyze Amazon reviews to determine what characteristics make them most helpful.\n",
    "\n",
    "Download the file of Amazon gourmet food reviews from the [Stanford Large Network Dataset Collection](https://snap.stanford.edu/data/web-FineFoods.html).   (Your computer may already have a utility installed that can unzip the archive as a text file; if not, [7-zip](http://www.7-zip.org/) is a useful utility for Windows. You can also do a web search for ```open .gz files online``` and use an online utility.)\n",
    "\n",
    "Create a pandas DataFrame object with the following entries for each review:\n",
    "\n",
    "* Product ID\n",
    "* Number of people who voted this review helpful\n",
    "* Total number of people who rated this review\n",
    "* Rating of the product\n",
    "* Text of the review\n",
    "\n",
    "For the second and third of these, the information will be given in the dataset as ```1/5```, which would correspond to 1 vote for helpful out of 5 people who rated the review.\n"
   ]
  },
  {
   "cell_type": "code",
   "execution_count": 73,
   "metadata": {
    "collapsed": true
   },
   "outputs": [],
   "source": [
    "import pandas\n",
    "import numpy\n",
    "import re\n",
    "import io"
   ]
  },
  {
   "cell_type": "code",
   "execution_count": 74,
   "metadata": {
    "collapsed": false
   },
   "outputs": [
    {
     "name": "stderr",
     "output_type": "stream",
     "text": [
      "C:\\Anaconda2\\envs\\py35\\lib\\site-packages\\IPython\\core\\interactiveshell.py:2717: DtypeWarning: Columns (8,9,10,11,12) have mixed types. Specify dtype option on import or set low_memory=False.\n",
      "  interactivity=interactivity, compiler=compiler, result=result)\n"
     ]
    }
   ],
   "source": [
    "with open(\"foods.txt\") as ff:\n",
    "    food = ff.read()\n",
    "    food = food.replace('\\n','.')\n",
    "    food = food.replace(',','.')\n",
    "    food = food.replace('product/productId: ','\\n')\n",
    "    food = food.replace('review/userId: ',',')\n",
    "    food = food.replace('review/profileName: ',',')\n",
    "    food = food.replace('review/helpfulness: ',',')\n",
    "    food = food.replace('review/score: ',',')\n",
    "    food = food.replace('review/time: ',',')\n",
    "    food = food.replace('review/summary: ',',')\n",
    "    food = food.replace('review/text: ',',')\n",
    "    food = food[1:]\n",
    "    foodheader = 'prodID,userID,profname,helpfullness,score,time,summary,text,1,2,3,4,5,6,7,8\\n'\n",
    "    food = foodheader+food\n",
    "    food = io.StringIO(food)\n",
    "    fooddf = pandas.read_csv(food)"
   ]
  },
  {
   "cell_type": "code",
   "execution_count": 75,
   "metadata": {
    "collapsed": false
   },
   "outputs": [
    {
     "data": {
      "text/html": [
       "<div>\n",
       "<table border=\"1\" class=\"dataframe\">\n",
       "  <thead>\n",
       "    <tr style=\"text-align: right;\">\n",
       "      <th></th>\n",
       "      <th>prodID</th>\n",
       "      <th>helpfullness</th>\n",
       "      <th>score</th>\n",
       "      <th>text</th>\n",
       "    </tr>\n",
       "  </thead>\n",
       "  <tbody>\n",
       "    <tr>\n",
       "      <th>0</th>\n",
       "      <td>B001E4KFG0.</td>\n",
       "      <td>1/1.</td>\n",
       "      <td>5.0.</td>\n",
       "      <td>I have bought several of the Vitality canned d...</td>\n",
       "    </tr>\n",
       "    <tr>\n",
       "      <th>1</th>\n",
       "      <td>B00813GRG4.</td>\n",
       "      <td>0/0.</td>\n",
       "      <td>1.0.</td>\n",
       "      <td>Product arrived labeled as Jumbo Salted Peanut...</td>\n",
       "    </tr>\n",
       "    <tr>\n",
       "      <th>2</th>\n",
       "      <td>B000LQOCH0.</td>\n",
       "      <td>1/1.</td>\n",
       "      <td>4.0.</td>\n",
       "      <td>This is a confection that has been around a fe...</td>\n",
       "    </tr>\n",
       "    <tr>\n",
       "      <th>3</th>\n",
       "      <td>B000UA0QIQ.</td>\n",
       "      <td>3/3.</td>\n",
       "      <td>2.0.</td>\n",
       "      <td>If you are looking for the secret ingredient i...</td>\n",
       "    </tr>\n",
       "    <tr>\n",
       "      <th>4</th>\n",
       "      <td>B006K2ZZ7K.</td>\n",
       "      <td>0/0.</td>\n",
       "      <td>5.0.</td>\n",
       "      <td>Great taffy at a great price.  There was a wid...</td>\n",
       "    </tr>\n",
       "  </tbody>\n",
       "</table>\n",
       "</div>"
      ],
      "text/plain": [
       "        prodID helpfullness score  \\\n",
       "0  B001E4KFG0.         1/1.  5.0.   \n",
       "1  B00813GRG4.         0/0.  1.0.   \n",
       "2  B000LQOCH0.         1/1.  4.0.   \n",
       "3  B000UA0QIQ.         3/3.  2.0.   \n",
       "4  B006K2ZZ7K.         0/0.  5.0.   \n",
       "\n",
       "                                                text  \n",
       "0  I have bought several of the Vitality canned d...  \n",
       "1  Product arrived labeled as Jumbo Salted Peanut...  \n",
       "2  This is a confection that has been around a fe...  \n",
       "3  If you are looking for the secret ingredient i...  \n",
       "4  Great taffy at a great price.  There was a wid...  "
      ]
     },
     "execution_count": 75,
     "metadata": {},
     "output_type": "execute_result"
    }
   ],
   "source": [
    "fooddf= fooddf[['prodID','helpfullness','score','text']]\n",
    "fooddf.head()"
   ]
  },
  {
   "cell_type": "code",
   "execution_count": 76,
   "metadata": {
    "collapsed": false
   },
   "outputs": [
    {
     "data": {
      "text/html": [
       "<div>\n",
       "<table border=\"1\" class=\"dataframe\">\n",
       "  <thead>\n",
       "    <tr style=\"text-align: right;\">\n",
       "      <th></th>\n",
       "      <th>prodID</th>\n",
       "      <th>score</th>\n",
       "      <th>text</th>\n",
       "      <th>helpfull</th>\n",
       "      <th>numPeop</th>\n",
       "    </tr>\n",
       "  </thead>\n",
       "  <tbody>\n",
       "    <tr>\n",
       "      <th>0</th>\n",
       "      <td>B001E4KFG0.</td>\n",
       "      <td>5.0.</td>\n",
       "      <td>I have bought several of the Vitality canned d...</td>\n",
       "      <td>1</td>\n",
       "      <td>1.0</td>\n",
       "    </tr>\n",
       "    <tr>\n",
       "      <th>1</th>\n",
       "      <td>B00813GRG4.</td>\n",
       "      <td>1.0.</td>\n",
       "      <td>Product arrived labeled as Jumbo Salted Peanut...</td>\n",
       "      <td>0</td>\n",
       "      <td>0.0</td>\n",
       "    </tr>\n",
       "    <tr>\n",
       "      <th>2</th>\n",
       "      <td>B000LQOCH0.</td>\n",
       "      <td>4.0.</td>\n",
       "      <td>This is a confection that has been around a fe...</td>\n",
       "      <td>1</td>\n",
       "      <td>1.0</td>\n",
       "    </tr>\n",
       "    <tr>\n",
       "      <th>3</th>\n",
       "      <td>B000UA0QIQ.</td>\n",
       "      <td>2.0.</td>\n",
       "      <td>If you are looking for the secret ingredient i...</td>\n",
       "      <td>3</td>\n",
       "      <td>3.0</td>\n",
       "    </tr>\n",
       "    <tr>\n",
       "      <th>4</th>\n",
       "      <td>B006K2ZZ7K.</td>\n",
       "      <td>5.0.</td>\n",
       "      <td>Great taffy at a great price.  There was a wid...</td>\n",
       "      <td>0</td>\n",
       "      <td>0.0</td>\n",
       "    </tr>\n",
       "  </tbody>\n",
       "</table>\n",
       "</div>"
      ],
      "text/plain": [
       "        prodID score                                               text  \\\n",
       "0  B001E4KFG0.  5.0.  I have bought several of the Vitality canned d...   \n",
       "1  B00813GRG4.  1.0.  Product arrived labeled as Jumbo Salted Peanut...   \n",
       "2  B000LQOCH0.  4.0.  This is a confection that has been around a fe...   \n",
       "3  B000UA0QIQ.  2.0.  If you are looking for the secret ingredient i...   \n",
       "4  B006K2ZZ7K.  5.0.  Great taffy at a great price.  There was a wid...   \n",
       "\n",
       "   helpfull  numPeop  \n",
       "0         1      1.0  \n",
       "1         0      0.0  \n",
       "2         1      1.0  \n",
       "3         3      3.0  \n",
       "4         0      0.0  "
      ]
     },
     "execution_count": 76,
     "metadata": {},
     "output_type": "execute_result"
    }
   ],
   "source": [
    "fooddf['helpfull'] = fooddf['helpfullness'].apply(lambda x: x.split('/')[0])\n",
    "fooddf['numPeop'] = fooddf['helpfullness'].apply(lambda x: x.split('/')[1])\n",
    "fooddf= fooddf[['prodID','score','text','helpfull','numPeop']]\n",
    "fooddf['helpfull']=pandas.to_numeric(fooddf['helpfull'])\n",
    "fooddf['numPeop']=pandas.to_numeric(fooddf['numPeop'])\n",
    "fooddf.head()"
   ]
  },
  {
   "cell_type": "code",
   "execution_count": 77,
   "metadata": {
    "collapsed": true
   },
   "outputs": [],
   "source": [
    "fooddf['text']=fooddf['text'].apply(str)"
   ]
  },
  {
   "cell_type": "markdown",
   "metadata": {},
   "source": [
    "# Problem 1(b).  Analyzing review text.\n",
    "\n",
    "Add columns to your DataFrame for the length of a review, the number of exclamation points in a review, and the fraction of people who rated a review helpful. You should calculate the fraction who rated a review helpful using the two columns you made in 1a, and a ratio of 1 helpful rating out of 5 total ratings should be entered as 0.2, not the string ```1/5```. If no people voted on whether a problem was helpful, the corresponding entry in your percentage helpful column should be ```NaN```."
   ]
  },
  {
   "cell_type": "code",
   "execution_count": 78,
   "metadata": {
    "collapsed": true
   },
   "outputs": [],
   "source": [
    "def countex(x):\n",
    "    count=0\n",
    "    for j in x:\n",
    "        if j=='!':\n",
    "            count+=1\n",
    "    return count"
   ]
  },
  {
   "cell_type": "code",
   "execution_count": 79,
   "metadata": {
    "collapsed": false
   },
   "outputs": [],
   "source": [
    "def pctHelpfull(x):\n",
    "    if x['numPeop']==0:\n",
    "        return numpy.nan\n",
    "    else:\n",
    "        return x['helpfull']/float(x['numPeop'])\n",
    "    "
   ]
  },
  {
   "cell_type": "code",
   "execution_count": 80,
   "metadata": {
    "collapsed": false
   },
   "outputs": [
    {
     "data": {
      "text/html": [
       "<div>\n",
       "<table border=\"1\" class=\"dataframe\">\n",
       "  <thead>\n",
       "    <tr style=\"text-align: right;\">\n",
       "      <th></th>\n",
       "      <th>prodID</th>\n",
       "      <th>score</th>\n",
       "      <th>text</th>\n",
       "      <th>helpfull</th>\n",
       "      <th>numPeop</th>\n",
       "      <th>lengReview</th>\n",
       "      <th>num!</th>\n",
       "      <th>pctHelpfull</th>\n",
       "    </tr>\n",
       "  </thead>\n",
       "  <tbody>\n",
       "    <tr>\n",
       "      <th>0</th>\n",
       "      <td>B001E4KFG0.</td>\n",
       "      <td>5.0.</td>\n",
       "      <td>I have bought several of the Vitality canned d...</td>\n",
       "      <td>1</td>\n",
       "      <td>1.0</td>\n",
       "      <td>265</td>\n",
       "      <td>0</td>\n",
       "      <td>1.0</td>\n",
       "    </tr>\n",
       "    <tr>\n",
       "      <th>1</th>\n",
       "      <td>B00813GRG4.</td>\n",
       "      <td>1.0.</td>\n",
       "      <td>Product arrived labeled as Jumbo Salted Peanut...</td>\n",
       "      <td>0</td>\n",
       "      <td>0.0</td>\n",
       "      <td>192</td>\n",
       "      <td>0</td>\n",
       "      <td>NaN</td>\n",
       "    </tr>\n",
       "    <tr>\n",
       "      <th>2</th>\n",
       "      <td>B000LQOCH0.</td>\n",
       "      <td>4.0.</td>\n",
       "      <td>This is a confection that has been around a fe...</td>\n",
       "      <td>1</td>\n",
       "      <td>1.0</td>\n",
       "      <td>511</td>\n",
       "      <td>0</td>\n",
       "      <td>1.0</td>\n",
       "    </tr>\n",
       "    <tr>\n",
       "      <th>3</th>\n",
       "      <td>B000UA0QIQ.</td>\n",
       "      <td>2.0.</td>\n",
       "      <td>If you are looking for the secret ingredient i...</td>\n",
       "      <td>3</td>\n",
       "      <td>3.0</td>\n",
       "      <td>221</td>\n",
       "      <td>0</td>\n",
       "      <td>1.0</td>\n",
       "    </tr>\n",
       "    <tr>\n",
       "      <th>4</th>\n",
       "      <td>B006K2ZZ7K.</td>\n",
       "      <td>5.0.</td>\n",
       "      <td>Great taffy at a great price.  There was a wid...</td>\n",
       "      <td>0</td>\n",
       "      <td>0.0</td>\n",
       "      <td>142</td>\n",
       "      <td>0</td>\n",
       "      <td>NaN</td>\n",
       "    </tr>\n",
       "  </tbody>\n",
       "</table>\n",
       "</div>"
      ],
      "text/plain": [
       "        prodID score                                               text  \\\n",
       "0  B001E4KFG0.  5.0.  I have bought several of the Vitality canned d...   \n",
       "1  B00813GRG4.  1.0.  Product arrived labeled as Jumbo Salted Peanut...   \n",
       "2  B000LQOCH0.  4.0.  This is a confection that has been around a fe...   \n",
       "3  B000UA0QIQ.  2.0.  If you are looking for the secret ingredient i...   \n",
       "4  B006K2ZZ7K.  5.0.  Great taffy at a great price.  There was a wid...   \n",
       "\n",
       "   helpfull  numPeop  lengReview  num!  pctHelpfull  \n",
       "0         1      1.0         265     0          1.0  \n",
       "1         0      0.0         192     0          NaN  \n",
       "2         1      1.0         511     0          1.0  \n",
       "3         3      3.0         221     0          1.0  \n",
       "4         0      0.0         142     0          NaN  "
      ]
     },
     "execution_count": 80,
     "metadata": {},
     "output_type": "execute_result"
    }
   ],
   "source": [
    "fooddf['lengReview'] = fooddf['text'].apply(lambda x: len(x))\n",
    "fooddf['num!'] = fooddf['text'].apply(lambda x: countex(x))\n",
    "fooddf['pctHelpfull'] = fooddf.apply( pctHelpfull,axis=1)\n",
    "fooddf.head()"
   ]
  },
  {
   "cell_type": "markdown",
   "metadata": {},
   "source": [
    "# Problem 1(c).  Summary statistics.\n",
    "\n",
    "How many reviews are in the data set?  What is the average length of a review (in characters)?  What is the average rating?  What is the greatest number of exclamation marks used in a single review?  Use the pandas package to answer these questions, then summarize your results in a markdown cell."
   ]
  },
  {
   "cell_type": "code",
   "execution_count": 81,
   "metadata": {
    "collapsed": false
   },
   "outputs": [
    {
     "data": {
      "text/plain": [
       "568431"
      ]
     },
     "execution_count": 81,
     "metadata": {},
     "output_type": "execute_result"
    }
   ],
   "source": [
    "#length of dataset\n",
    "len(fooddf)"
   ]
  },
  {
   "cell_type": "code",
   "execution_count": 82,
   "metadata": {
    "collapsed": false
   },
   "outputs": [
    {
     "data": {
      "text/plain": [
       "438.22219055610969"
      ]
     },
     "execution_count": 82,
     "metadata": {},
     "output_type": "execute_result"
    }
   ],
   "source": [
    "#Avg. length of review\n",
    "fooddf['lengReview'].mean()"
   ]
  },
  {
   "cell_type": "code",
   "execution_count": 83,
   "metadata": {
    "collapsed": false
   },
   "outputs": [
    {
     "data": {
      "text/plain": [
       "4.1831919793255468"
      ]
     },
     "execution_count": 83,
     "metadata": {},
     "output_type": "execute_result"
    }
   ],
   "source": [
    "#Avg. Rating\n",
    "fooddf['score'] = fooddf['score'].apply(lambda x: x[:-1])\n",
    "fooddf['score'] = pandas.to_numeric(fooddf['score'])\n",
    "fooddf['score'].mean()"
   ]
  },
  {
   "cell_type": "code",
   "execution_count": 84,
   "metadata": {
    "collapsed": false
   },
   "outputs": [
    {
     "data": {
      "text/plain": [
       "84"
      ]
     },
     "execution_count": 84,
     "metadata": {},
     "output_type": "execute_result"
    }
   ],
   "source": [
    "#Max ! in review\n",
    "fooddf['num!'].max()"
   ]
  },
  {
   "cell_type": "markdown",
   "metadata": {},
   "source": [
    "Leng of dataset: ***568431*** \n",
    "Avg length of review: ***438.22*** \n",
    "Avg rating: ***4.18***\n",
    "Max ! in one review: ***84***"
   ]
  },
  {
   "cell_type": "markdown",
   "metadata": {},
   "source": [
    "# Problem 1(d).  Export.\n",
    "\n",
    "Save your DataFrame as a .csv file suitable for future analysis in R.  Your .csv file should not include the review text column, as the presence of commas and quotation marks will make reading the file difficult.  You should also convert entries from ```NaN``` to the empty string before saving."
   ]
  },
  {
   "cell_type": "code",
   "execution_count": 86,
   "metadata": {
    "collapsed": false
   },
   "outputs": [],
   "source": [
    "dfout = fooddf.replace(numpy.nan,' ', regex=True)\n",
    "dfout = fooddf[['prodID','score','helpfull','numPeop','lengReview','num!','pctHelpfull']]\n",
    "dfout.to_csv('Amazon_reviews.csv')"
   ]
  },
  {
   "cell_type": "code",
   "execution_count": null,
   "metadata": {
    "collapsed": true
   },
   "outputs": [],
   "source": []
  }
 ],
 "metadata": {
  "kernelspec": {
   "display_name": "Python [py35]",
   "language": "python",
   "name": "Python [py35]"
  },
  "language_info": {
   "codemirror_mode": {
    "name": "ipython",
    "version": 3
   },
   "file_extension": ".py",
   "mimetype": "text/x-python",
   "name": "python",
   "nbconvert_exporter": "python",
   "pygments_lexer": "ipython3",
   "version": "3.5.2"
  }
 },
 "nbformat": 4,
 "nbformat_minor": 0
}
