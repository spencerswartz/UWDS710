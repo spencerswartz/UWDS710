{
 "cells": [
  {
   "cell_type": "markdown",
   "metadata": {},
   "source": [
    "# Problem 1(a).  Unionized workers.\n",
    "\n",
    "These problems use the 1985 Current Population Survey data, ```cps.csv```, from last week.\n",
    "\n",
    "Create a pandas data frame to hold the CPS data.  Write a function that computes the average hourly wage of a unionized worker by using control flow to iterate through each row of the data frame."
   ]
  },
  {
   "cell_type": "code",
   "execution_count": 1,
   "metadata": {
    "collapsed": true
   },
   "outputs": [],
   "source": [
    "import pandas as pd\n",
    "import numpy as np"
   ]
  },
  {
   "cell_type": "code",
   "execution_count": 3,
   "metadata": {
    "collapsed": false
   },
   "outputs": [
    {
     "data": {
      "text/html": [
       "<div>\n",
       "<table border=\"1\" class=\"dataframe\">\n",
       "  <thead>\n",
       "    <tr style=\"text-align: right;\">\n",
       "      <th></th>\n",
       "      <th>wage</th>\n",
       "      <th>educ</th>\n",
       "      <th>race</th>\n",
       "      <th>sex</th>\n",
       "      <th>hispanic</th>\n",
       "      <th>south</th>\n",
       "      <th>married</th>\n",
       "      <th>exper</th>\n",
       "      <th>union</th>\n",
       "      <th>age</th>\n",
       "      <th>sector</th>\n",
       "    </tr>\n",
       "  </thead>\n",
       "  <tbody>\n",
       "    <tr>\n",
       "      <th>0</th>\n",
       "      <td>9.0</td>\n",
       "      <td>10</td>\n",
       "      <td>W</td>\n",
       "      <td>M</td>\n",
       "      <td>NH</td>\n",
       "      <td>NS</td>\n",
       "      <td>Married</td>\n",
       "      <td>27</td>\n",
       "      <td>Not</td>\n",
       "      <td>43</td>\n",
       "      <td>const</td>\n",
       "    </tr>\n",
       "    <tr>\n",
       "      <th>1</th>\n",
       "      <td>5.5</td>\n",
       "      <td>12</td>\n",
       "      <td>W</td>\n",
       "      <td>M</td>\n",
       "      <td>NH</td>\n",
       "      <td>NS</td>\n",
       "      <td>Married</td>\n",
       "      <td>20</td>\n",
       "      <td>Not</td>\n",
       "      <td>38</td>\n",
       "      <td>sales</td>\n",
       "    </tr>\n",
       "    <tr>\n",
       "      <th>2</th>\n",
       "      <td>3.8</td>\n",
       "      <td>12</td>\n",
       "      <td>W</td>\n",
       "      <td>F</td>\n",
       "      <td>NH</td>\n",
       "      <td>NS</td>\n",
       "      <td>Single</td>\n",
       "      <td>4</td>\n",
       "      <td>Not</td>\n",
       "      <td>22</td>\n",
       "      <td>sales</td>\n",
       "    </tr>\n",
       "    <tr>\n",
       "      <th>3</th>\n",
       "      <td>10.5</td>\n",
       "      <td>12</td>\n",
       "      <td>W</td>\n",
       "      <td>F</td>\n",
       "      <td>NH</td>\n",
       "      <td>NS</td>\n",
       "      <td>Married</td>\n",
       "      <td>29</td>\n",
       "      <td>Not</td>\n",
       "      <td>47</td>\n",
       "      <td>clerical</td>\n",
       "    </tr>\n",
       "    <tr>\n",
       "      <th>4</th>\n",
       "      <td>15.0</td>\n",
       "      <td>12</td>\n",
       "      <td>W</td>\n",
       "      <td>M</td>\n",
       "      <td>NH</td>\n",
       "      <td>NS</td>\n",
       "      <td>Married</td>\n",
       "      <td>40</td>\n",
       "      <td>Union</td>\n",
       "      <td>58</td>\n",
       "      <td>const</td>\n",
       "    </tr>\n",
       "  </tbody>\n",
       "</table>\n",
       "</div>"
      ],
      "text/plain": [
       "   wage  educ race sex hispanic south  married  exper  union  age    sector\n",
       "0   9.0    10    W   M       NH    NS  Married     27    Not   43     const\n",
       "1   5.5    12    W   M       NH    NS  Married     20    Not   38     sales\n",
       "2   3.8    12    W   F       NH    NS   Single      4    Not   22     sales\n",
       "3  10.5    12    W   F       NH    NS  Married     29    Not   47  clerical\n",
       "4  15.0    12    W   M       NH    NS  Married     40  Union   58     const"
      ]
     },
     "execution_count": 3,
     "metadata": {},
     "output_type": "execute_result"
    }
   ],
   "source": [
    "cps = pd.read_csv('cps.csv')\n",
    "cps.head()"
   ]
  },
  {
   "cell_type": "code",
   "execution_count": 61,
   "metadata": {
    "collapsed": true
   },
   "outputs": [],
   "source": [
    "def avg_unionized(dataframe):\n",
    "    count = 0\n",
    "    sumwage = 0\n",
    "    for index, row in dataframe.iterrows():\n",
    "        if row['union']=='Union':\n",
    "            count+=1\n",
    "            sumwage+= row['wage']\n",
    "        else:\n",
    "            None\n",
    "    avgwage=sumwage/count\n",
    "    return avgwage"
   ]
  },
  {
   "cell_type": "code",
   "execution_count": 62,
   "metadata": {
    "collapsed": false
   },
   "outputs": [
    {
     "data": {
      "text/plain": [
       "10.798125"
      ]
     },
     "execution_count": 62,
     "metadata": {},
     "output_type": "execute_result"
    }
   ],
   "source": [
    "avg_unionized(cps)"
   ]
  },
  {
   "cell_type": "markdown",
   "metadata": {},
   "source": [
    "# Problem 1(b).  More unionized workers.\n",
    "\n",
    "Write a function that takes a row of a data frame as input.  Your function should return 0 if a worker is not unionized, and the worker's hourly wage if the worker is unionized.  Apply this function to your data frame, then use the resulting series to compute the average hourly wage of a unionized worker."
   ]
  },
  {
   "cell_type": "code",
   "execution_count": 21,
   "metadata": {
    "collapsed": false
   },
   "outputs": [],
   "source": [
    "def unionized(dataframe, row):\n",
    "    rowdata= dataframe[row:row+1]\n",
    "    if rowdata['union'].item()=='Union':\n",
    "        return rowdata['wage'].item()\n",
    "    else:\n",
    "        return 0"
   ]
  },
  {
   "cell_type": "code",
   "execution_count": 100,
   "metadata": {
    "collapsed": false
   },
   "outputs": [],
   "source": [
    "def run_unionized(dataframe):\n",
    "    series=pd.Series()\n",
    "    count= 0\n",
    "    for index,row in cps.iterrows():\n",
    "        value=unionized(dataframe, index)\n",
    "        series =series.append(pd.Series(value))\n",
    "        if value>0:\n",
    "            count+=1\n",
    "    avgwage =series.sum()/count\n",
    "    return avgwage"
   ]
  },
  {
   "cell_type": "code",
   "execution_count": 101,
   "metadata": {
    "collapsed": false
   },
   "outputs": [
    {
     "data": {
      "text/plain": [
       "10.798125"
      ]
     },
     "execution_count": 101,
     "metadata": {},
     "output_type": "execute_result"
    }
   ],
   "source": [
    "run_unionized(cps)"
   ]
  },
  {
   "cell_type": "markdown",
   "metadata": {},
   "source": [
    "# Problem 1(c).  Selecting and analyzing unionized workers.\n",
    "\n",
    "Write code that selects the unionized workers, then computes the average hourly wage of the resulting subset."
   ]
  },
  {
   "cell_type": "code",
   "execution_count": 105,
   "metadata": {
    "collapsed": false
   },
   "outputs": [],
   "source": [
    "def avg_unionized_sub(dataframe):\n",
    "    unionsub =dataframe.loc[dataframe['union'] == 'Union']\n",
    "    return unionsub['wage'].mean()"
   ]
  },
  {
   "cell_type": "code",
   "execution_count": 106,
   "metadata": {
    "collapsed": false
   },
   "outputs": [
    {
     "data": {
      "text/plain": [
       "10.798125"
      ]
     },
     "execution_count": 106,
     "metadata": {},
     "output_type": "execute_result"
    }
   ],
   "source": [
    "avg_unionized_sub(cps)"
   ]
  },
  {
   "cell_type": "markdown",
   "metadata": {},
   "source": [
    "# Problem 1(d).  Timing.\n",
    "\n",
    "Use the ```%time``` or ```%timeit``` magic commands to compare your code from 1(a), 1(b), and 1(c).  Create a markdown cell which explains which summarizes the results of your comparison.  Can you explain what makes the fastest code fastest?"
   ]
  },
  {
   "cell_type": "code",
   "execution_count": 60,
   "metadata": {
    "collapsed": false
   },
   "outputs": [
    {
     "name": "stdout",
     "output_type": "stream",
     "text": [
      "10000 loops, best of 3: 126 µs per loop\n"
     ]
    }
   ],
   "source": [
    "%timeit [avg_hourly_wage(cps,'wage')]"
   ]
  },
  {
   "cell_type": "code",
   "execution_count": 104,
   "metadata": {
    "collapsed": false
   },
   "outputs": [
    {
     "name": "stdout",
     "output_type": "stream",
     "text": [
      "1 loop, best of 3: 319 ms per loop\n"
     ]
    }
   ],
   "source": [
    "%timeit [run_unionized(cps)]"
   ]
  },
  {
   "cell_type": "code",
   "execution_count": 107,
   "metadata": {
    "collapsed": false
   },
   "outputs": [
    {
     "name": "stdout",
     "output_type": "stream",
     "text": [
      "1000 loops, best of 3: 740 µs per loop\n"
     ]
    }
   ],
   "source": [
    "%timeit [avg_unionized_sub(cps)]"
   ]
  },
  {
   "cell_type": "markdown",
   "metadata": {},
   "source": [
    "The fastest of the three ways is ***avg_unionized*** which used ***control flow***. I would asssume that if we had a large dataset we would actualy see that ***avg_unionized_sub*** would be the fastest as it uses the integrated pandas library to subset the data."
   ]
  },
  {
   "cell_type": "code",
   "execution_count": null,
   "metadata": {
    "collapsed": true
   },
   "outputs": [],
   "source": []
  }
 ],
 "metadata": {
  "kernelspec": {
   "display_name": "Python [Root]",
   "language": "python",
   "name": "Python [Root]"
  },
  "language_info": {
   "codemirror_mode": {
    "name": "ipython",
    "version": 3
   },
   "file_extension": ".py",
   "mimetype": "text/x-python",
   "name": "python",
   "nbconvert_exporter": "python",
   "pygments_lexer": "ipython3",
   "version": "3.5.2"
  }
 },
 "nbformat": 4,
 "nbformat_minor": 0
}
