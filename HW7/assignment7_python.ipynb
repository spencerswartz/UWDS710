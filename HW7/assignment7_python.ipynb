{
 "cells": [
  {
   "cell_type": "markdown",
   "metadata": {},
   "source": [
    "# Problem 1(a).  Word length.\n",
    "\n",
    "Write a function called ```word_length_list()``` which takes a string and returns a list with the length of each word in the string.  Your function should ignore punctuation.  For example, ```word_length_list(\"The panda eats, shoots, and leaves!\")``` should return ```[3,5,4,6,3,6]```.  \n",
    "\n",
    "Call or create other functions as necessary to organize your work."
   ]
  },
  {
   "cell_type": "code",
   "execution_count": 5,
   "metadata": {
    "collapsed": true
   },
   "outputs": [],
   "source": [
    "import string"
   ]
  },
  {
   "cell_type": "code",
   "execution_count": 125,
   "metadata": {
    "collapsed": false
   },
   "outputs": [],
   "source": [
    "def word_length_list(sent):\n",
    "    sent= ''.join(c for c in sent if c not in set(string.punctuation))\n",
    "    sentlist = sent.split()\n",
    "    outlist=list(map(lambda x: len(x),sentlist))\n",
    "    return outlist\n",
    "    "
   ]
  },
  {
   "cell_type": "code",
   "execution_count": 126,
   "metadata": {
    "collapsed": false
   },
   "outputs": [
    {
     "data": {
      "text/plain": [
       "[3, 5, 4, 6, 3, 6]"
      ]
     },
     "execution_count": 126,
     "metadata": {},
     "output_type": "execute_result"
    }
   ],
   "source": [
    "word_length_list(\"The panda eats, shoots, and leaves!\")"
   ]
  },
  {
   "cell_type": "markdown",
   "metadata": {},
   "source": [
    "# Problem 1(b).  \"A Mourner.\"\n",
    "\n",
    "The text below is an anonymous essay published in The Boston Gazette and Country Journal on January 8, 1770. \n",
    "\n",
    ">The general Sympathy and Concern for the Murder of the Lad by the base and infamous Richardson on the 22d Instant, will be sufficient Reason for your Notifying the Public that he will be buried from his Father’s House in Frogg Lane, opposite Liberty-Tree, on Monday next, when all the Friends of Liberty may have an Opportunity of paying their last Respects to the Remains of this little Hero and first Martyr to the noble Cause--Whose manly Spirit (after this Accident happened) appear’d in his discreet Answers to his Doctor, his Thanks to the Clergymen who prayed with him, and Parents, and while he underwent the greatest Distress of bodily Pain; and with which he met the King of Terrors.  These Things, together with the several heroic Pieces found in his Pocket, particularly Wolfe’s Summit of human Glory, gives Reason to think he had a martial Genius, and would have made a clever Man.\n",
    "\t\t\t\t\t\n",
    "> A Mourner.\n",
    "\n",
    "(Source:  Michael Sullivan, _Statistics:  Informed Decisions Using Data_, 4th ed.  p. 188-189.)\n",
    "\n",
    "Find the length of each word in \"A Mourner\"."
   ]
  },
  {
   "cell_type": "code",
   "execution_count": 113,
   "metadata": {
    "collapsed": false
   },
   "outputs": [
    {
     "data": {
      "text/plain": [
       "[3,\n",
       " 7,\n",
       " 8,\n",
       " 3,\n",
       " 7,\n",
       " 3,\n",
       " 3,\n",
       " 6,\n",
       " 2,\n",
       " 3,\n",
       " 3,\n",
       " 2,\n",
       " 3,\n",
       " 4,\n",
       " 3,\n",
       " 8,\n",
       " 10,\n",
       " 2,\n",
       " 3,\n",
       " 3,\n",
       " 7,\n",
       " 4,\n",
       " 2,\n",
       " 10,\n",
       " 6,\n",
       " 3,\n",
       " 4,\n",
       " 9,\n",
       " 3,\n",
       " 6,\n",
       " 4,\n",
       " 2,\n",
       " 4,\n",
       " 2,\n",
       " 6,\n",
       " 4,\n",
       " 3,\n",
       " 8,\n",
       " 5,\n",
       " 2,\n",
       " 5,\n",
       " 4,\n",
       " 8,\n",
       " 11,\n",
       " 2,\n",
       " 6,\n",
       " 4,\n",
       " 4,\n",
       " 3,\n",
       " 3,\n",
       " 7,\n",
       " 2,\n",
       " 7,\n",
       " 3,\n",
       " 4,\n",
       " 2,\n",
       " 11,\n",
       " 2,\n",
       " 6,\n",
       " 5,\n",
       " 4,\n",
       " 8,\n",
       " 2,\n",
       " 3,\n",
       " 7,\n",
       " 2,\n",
       " 4,\n",
       " 6,\n",
       " 4,\n",
       " 3,\n",
       " 5,\n",
       " 6,\n",
       " 2,\n",
       " 3,\n",
       " 5,\n",
       " 10,\n",
       " 5,\n",
       " 6,\n",
       " 5,\n",
       " 4,\n",
       " 8,\n",
       " 8,\n",
       " 8,\n",
       " 2,\n",
       " 3,\n",
       " 8,\n",
       " 7,\n",
       " 2,\n",
       " 3,\n",
       " 6,\n",
       " 3,\n",
       " 6,\n",
       " 2,\n",
       " 3,\n",
       " 9,\n",
       " 3,\n",
       " 6,\n",
       " 4,\n",
       " 3,\n",
       " 3,\n",
       " 7,\n",
       " 3,\n",
       " 5,\n",
       " 2,\n",
       " 9,\n",
       " 3,\n",
       " 8,\n",
       " 8,\n",
       " 2,\n",
       " 6,\n",
       " 4,\n",
       " 3,\n",
       " 4,\n",
       " 5,\n",
       " 2,\n",
       " 3,\n",
       " 3,\n",
       " 4,\n",
       " 2,\n",
       " 7,\n",
       " 5,\n",
       " 6,\n",
       " 8,\n",
       " 4,\n",
       " 3,\n",
       " 7,\n",
       " 6,\n",
       " 6,\n",
       " 5,\n",
       " 2,\n",
       " 3,\n",
       " 6,\n",
       " 12,\n",
       " 7,\n",
       " 6,\n",
       " 2,\n",
       " 5,\n",
       " 5,\n",
       " 5,\n",
       " 6,\n",
       " 2,\n",
       " 5,\n",
       " 2,\n",
       " 3,\n",
       " 1,\n",
       " 7,\n",
       " 6,\n",
       " 3,\n",
       " 5,\n",
       " 4,\n",
       " 4,\n",
       " 1,\n",
       " 6,\n",
       " 3,\n",
       " 1,\n",
       " 7]"
      ]
     },
     "execution_count": 113,
     "metadata": {},
     "output_type": "execute_result"
    }
   ],
   "source": [
    "A_Mourner='''The general Sympathy and Concern for the Murder of the Lad by the base and infamous Richardson on the 22d Instant, will be sufficient Reason for your Notifying the Public that he will be buried from his Father’s House in Frogg Lane, opposite Liberty-Tree, on Monday next, when all the Friends of Liberty may have an Opportunity of paying their last Respects to the Remains of this little Hero and first Martyr to the noble Cause--Whose manly Spirit (after this Accident happened) appear’d in his discreet Answers to his Doctor, his Thanks to the Clergymen who prayed with him, and Parents, and while he underwent the greatest Distress of bodily Pain; and with which he met the King of Terrors. These Things, together with the several heroic Pieces found in his Pocket, particularly Wolfe’s Summit of human Glory, gives Reason to think he had a martial Genius, and would have made a clever Man.\n",
    "A Mourner.'''\n",
    "word_length_list(A_Mourner)"
   ]
  },
  {
   "cell_type": "markdown",
   "metadata": {},
   "source": [
    "# Problem 1(c). _Pride and Prejudice_.\n",
    "\n",
    "Use Python to count the number of words and mean length of words in each sentence of Pride and Prejudice (https://www.gutenber\n",
    "g.org/cache/epub/1342/pg1342.txt).  Save your result as a ```.csv``` file.\n",
    "\n",
    "* Create new functions as necessary to organize your work.\n",
    "* Include comments to explain the purpose and arguments of each function you create."
   ]
  },
  {
   "cell_type": "code",
   "execution_count": 127,
   "metadata": {
    "collapsed": true
   },
   "outputs": [],
   "source": [
    "import csv\n",
    "# import csv to write the file"
   ]
  },
  {
   "cell_type": "code",
   "execution_count": 129,
   "metadata": {
    "collapsed": false
   },
   "outputs": [
    {
     "data": {
      "text/plain": [
       "'Chapter 1   It is a truth universally acknowledged, that a single man in possession of a good fortune, must be in want of a wife'"
      ]
     },
     "execution_count": 129,
     "metadata": {},
     "output_type": "execute_result"
    }
   ],
   "source": [
    "f = open('PrideAndThePrejudice.txt') #open file location\n",
    "PandP = f.read() #read file in\n",
    "PandP = PandP.replace('\\n',' ') #the next few lines eliminate accidental end of sentences by replacing frequent strings\n",
    "PandP = PandP.replace('Mrs.','MRS ')\n",
    "PandP = PandP.replace('Mr.','MR ')\n",
    "PandP = PandP.replace('St.','ST ')\n",
    "PandP = PandP.replace('Dr.','DR ')\n",
    "st = PandP.split('!') #split the string into a list delimited by !\n",
    "out=[]\n",
    "PandP=[]\n",
    "for i in st:\n",
    "    ex=i.split('?') #split each string within st list by ?\n",
    "    for v in ex:\n",
    "        out.append(v)\n",
    "    for j in out:\n",
    "        qu=j.split('.') #split each string withing j by .\n",
    "        for z in qu:\n",
    "            PandP.append(z)\n",
    "PandP[0] #check to see if the sentences are split accordingly"
   ]
  },
  {
   "cell_type": "code",
   "execution_count": 130,
   "metadata": {
    "collapsed": false
   },
   "outputs": [],
   "source": [
    "lengsent=list(map(word_length_list,PandP)) #apply word_length_list to each string within the PandP list and create a new list of list with the length of each word"
   ]
  },
  {
   "cell_type": "code",
   "execution_count": 157,
   "metadata": {
    "collapsed": false
   },
   "outputs": [
    {
     "name": "stdout",
     "output_type": "stream",
     "text": [
      "[]\n"
     ]
    }
   ],
   "source": [
    "print(lengsent[len(lengsent)-1])\n",
    "#some lists within lengsent are empty we will need to avoid these when adding them to the csv."
   ]
  },
  {
   "cell_type": "code",
   "execution_count": 159,
   "metadata": {
    "collapsed": false
   },
   "outputs": [],
   "source": [
    "with open('pandp.csv','w', newline='') as csvfile: #open the csv file\n",
    "    w=csv.writer(csvfile)\n",
    "    row=('words in sentence','avg. words in sentence') #create headers for the file\n",
    "    w.writerow(row)\n",
    "    for sent in lengsent: #find the avg and the sum of the words in each sentence\n",
    "        if float(len(sent))!=0:\n",
    "            #this if statment removes list of sentences that have no words.\n",
    "            avg=sum(sent) / float(len(sent))\n",
    "            count=len(sent)\n",
    "            row=(count,avg)\n",
    "            w.writerow(row)\n",
    "        else:\n",
    "            None #do nothing if there are no words within the sentence\n"
   ]
  },
  {
   "cell_type": "markdown",
   "metadata": {},
   "source": [
    "# Problem 2.  Counting the Letter _e_.\n",
    "\n",
    "Write Python code to determine and print the frequency of the letter _e_ in _Pride and Prejudice_ (https://www.gutenberg.org/cache/epub/1342/pg1342.txt) and _L'Enlèvement de la redoute_ (pp. 1-7 in https://www.gutenberg.org/cache/epub/12949/pg12949.txt).\n",
    "\n",
    "* Your code should include a function called ```count_letter_e()``` which takes a string representing a filename, such as ```pg1342.txt```, as input, and returns the number of _e_'s as output.  Your function should include two optional arguments, ```ignore_accents``` and ```ignore_case```.  When ```ignore_accents = True```, your function should count accented characters such as _é_, _ê_, and _è_ as _e_.  When ```ignore_case=True```, your function should treat uppercase and lowercase _e_ as the same letter.\n",
    "* Your code should also include a function called ```count_letters()``` which takes a string representing a filename and returns the number of letters in the file.  This function should not count spaces or punctuation.\n",
    "* Create other functions as necessary to organize your work.\n",
    "* Include comments which explain the purpose and arguments of each function you create."
   ]
  },
  {
   "cell_type": "code",
   "execution_count": 167,
   "metadata": {
    "collapsed": false
   },
   "outputs": [],
   "source": [
    "import string"
   ]
  },
  {
   "cell_type": "code",
   "execution_count": 177,
   "metadata": {
    "collapsed": false
   },
   "outputs": [],
   "source": [
    "def count_letter_e(filename,ignore_accents=True,ignore_case=True):\n",
    "    ### THIS FUNCTION TAKES IN A FILE AND COUNTS THE NUMBER OF LOWERCASE E'S WITHIN IT. IT CAN IGNORE ACCENTS AND CASE BY SETTING THE VARIABLES TO TRUE. ###\n",
    "    f = open(filename) #open file location\n",
    "    text = f.read() #read file in\n",
    "    counte=0 #create counter\n",
    "    if ignore_accents and ignore_case: #code for if both ignore_accents and ignore_case is true\n",
    "        text=text.replace('é','e') #replace accented e's with e\n",
    "        text=text.replace('ê','e')\n",
    "        text=text.replace('è','e')\n",
    "        text=text.lower() #lower case total text\n",
    "        for letter in text:\n",
    "            if letter=='e':\n",
    "                counte+=1\n",
    "            else:\n",
    "                None\n",
    "    elif ignore_accents:\n",
    "        text=text.replace('é','e') #replace accented e's with e\n",
    "        text=text.replace('ê','e')\n",
    "        text=text.replace('è','e')\n",
    "        for letter in text:\n",
    "            if letter=='e':\n",
    "                counte+=1\n",
    "            else:\n",
    "                None\n",
    "    elif ignore_case:\n",
    "        text=text.lower() #lower case total text\n",
    "        for letter in text:\n",
    "            if letter=='e':\n",
    "                counte+=1\n",
    "            else:\n",
    "                None\n",
    "    else:\n",
    "        for letter in text:\n",
    "            if letter=='e':\n",
    "                counte+=1\n",
    "            else:\n",
    "                None\n",
    "    return counte\n",
    "        "
   ]
  },
  {
   "cell_type": "code",
   "execution_count": 178,
   "metadata": {
    "collapsed": false
   },
   "outputs": [
    {
     "name": "stdout",
     "output_type": "stream",
     "text": [
      "69367\n",
      "69367\n",
      "68639\n",
      "68639\n",
      "89463\n",
      "80163\n",
      "79423\n",
      "88723\n"
     ]
    }
   ],
   "source": [
    "print(count_letter_e('PrideAndThePrejudice.txt'))\n",
    "print(count_letter_e('PrideAndThePrejudice.txt',False))\n",
    "print(count_letter_e('PrideAndThePrejudice.txt',False,False))\n",
    "print(count_letter_e('PrideAndThePrejudice.txt',True,False))\n",
    "print(count_letter_e('LEnlevement de la redoute.txt'))\n",
    "print(count_letter_e('LEnlevement de la redoute.txt',False))\n",
    "print(count_letter_e('LEnlevement de la redoute.txt',False,False))\n",
    "print(count_letter_e('LEnlevement de la redoute.txt',True,False))"
   ]
  },
  {
   "cell_type": "code",
   "execution_count": 186,
   "metadata": {
    "collapsed": true
   },
   "outputs": [],
   "source": [
    "def count_letters(filename):\n",
    "    ### THIS FUNCTION COUNTS THE NUMBER OF LETTER WITHIN A FILE IT IGNORES ALL WHITESPACES AND PUNCUATION. ###\n",
    "    f = open(filename) #open file location\n",
    "    text = f.read() #read file in\n",
    "    count=0 #create counter\n",
    "    text.join(c for c in sent if c not in set(string.punctuation)) #remove all punctuation\n",
    "    text=''.join(text.split()) #remove all whitespaces\n",
    "    for letter in text: #count each letter\n",
    "        count+=1\n",
    "    return count\n",
    "    "
   ]
  },
  {
   "cell_type": "code",
   "execution_count": 188,
   "metadata": {
    "collapsed": false
   },
   "outputs": [
    {
     "name": "stdout",
     "output_type": "stream",
     "text": [
      "560707\n",
      "658554\n"
     ]
    }
   ],
   "source": [
    "print(count_letters('PrideAndThePrejudice.txt'))\n",
    "print(count_letters('LEnlevement de la redoute.txt'))"
   ]
  },
  {
   "cell_type": "code",
   "execution_count": null,
   "metadata": {
    "collapsed": true
   },
   "outputs": [],
   "source": []
  }
 ],
 "metadata": {
  "kernelspec": {
   "display_name": "Python [py35]",
   "language": "python",
   "name": "Python [py35]"
  },
  "language_info": {
   "codemirror_mode": {
    "name": "ipython",
    "version": 3
   },
   "file_extension": ".py",
   "mimetype": "text/x-python",
   "name": "python",
   "nbconvert_exporter": "python",
   "pygments_lexer": "ipython3",
   "version": "3.5.2"
  }
 },
 "nbformat": 4,
 "nbformat_minor": 0
}
