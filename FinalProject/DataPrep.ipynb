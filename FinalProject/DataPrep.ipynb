{
 "cells": [
  {
   "cell_type": "markdown",
   "metadata": {},
   "source": [
    "# Initiate all data files"
   ]
  },
  {
   "cell_type": "markdown",
   "metadata": {},
   "source": [
    "#### import pandas"
   ]
  },
  {
   "cell_type": "code",
   "execution_count": 1,
   "metadata": {
    "collapsed": true
   },
   "outputs": [],
   "source": [
    "import pandas as pd"
   ]
  },
  {
   "cell_type": "markdown",
   "metadata": {},
   "source": [
    "#### Use one of the files to identify columns of interest for analysis"
   ]
  },
  {
   "cell_type": "code",
   "execution_count": 2,
   "metadata": {
    "collapsed": false
   },
   "outputs": [],
   "source": [
    "def create_df_from_multi_json_files(list_of_files,source_id):\n",
    "    #initiate count for identifing source_id\n",
    "    source_index=0\n",
    "    #initiate output data\n",
    "    out_data=pd.DataFrame()\n",
    "    for file in list_of_files:\n",
    "        # read the entire file into a python\n",
    "        with open(file, 'r') as f:\n",
    "            data = f.readlines()\n",
    "\n",
    "        # remove the trailing \"\\n\" from each line\n",
    "        data = map(lambda x: x.rstrip(), data)\n",
    "\n",
    "        # each element of 'data' is an individual JSON object.\n",
    "        # i want to convert it into an *array* of JSON objects\n",
    "        # which, in and of itself, is one large JSON object\n",
    "        # basically... add square brackets to the beginning\n",
    "        # and end, and have all the individual business JSON objects\n",
    "        # separated by a comma\n",
    "        data_json_str = \"[\"+','.join(data)+\"]\"\n",
    "\n",
    "        # now, load it into pandas\n",
    "        data = pd.read_json(data_json_str)\n",
    "        #newcolumn discribing the file it came from\n",
    "        data['tweetsource']=source_id[source_index]\n",
    "        #advance the source_index for the next iteration\n",
    "        source_index+=1\n",
    "        out_data=out_data.append(data)\n",
    "    return out_data"
   ]
  },
  {
   "cell_type": "code",
   "execution_count": 3,
   "metadata": {
    "collapsed": false
   },
   "outputs": [],
   "source": [
    "files=[\n",
    "       'atAlabamaFTBL.txt',\n",
    "       'atBadgerFootball.txt',\n",
    "       'atClemsonFB.txt',\n",
    "       'atOhioStateFB.txt',\n",
    "       'atOU_Football.txt',\n",
    "       'atPennStateFball.txt',\n",
    "       'atUW_Football.txt',\n",
    "       'atUMichFootball.txt',\n",
    "       'hashClemson.txt',\n",
    "       'hashMichigan.txt',\n",
    "       'hashOhioState.txt',\n",
    "       'hashPennState.txt',\n",
    "       'hashWisconsin.txt',\n",
    "       'hasWashington.txt']\n",
    "ids=[\n",
    "    '@AlabamaFTBL',\n",
    "    '@BadgerFootball',\n",
    "    '@ClemsonFB',\n",
    "    '@OhioStateFB',\n",
    "    '@OU_Football',\n",
    "    '@PennStateFball',\n",
    "    '@UW_Football',\n",
    "    '@UMichFootball',\n",
    "    '#ALLIN-Clemson',\n",
    "    '#GoBlue-Michigan',\n",
    "    '#GoBucks-OhioState',\n",
    "    '#PSUnrivaled-PennState',\n",
    "    '#OnWisconsin-Wisconsin',\n",
    "    '#PurpleReign-Washington']\n",
    "all_data=create_df_from_multi_json_files(list_of_files=files,source_id=ids)"
   ]
  },
  {
   "cell_type": "markdown",
   "metadata": {},
   "source": [
    "#### Be sure the data was placed in the DF correctly"
   ]
  },
  {
   "cell_type": "code",
   "execution_count": 4,
   "metadata": {
    "collapsed": false
   },
   "outputs": [
    {
     "data": {
      "text/html": [
       "<div>\n",
       "<table border=\"1\" class=\"dataframe\">\n",
       "  <thead>\n",
       "    <tr style=\"text-align: right;\">\n",
       "      <th></th>\n",
       "      <th>contributors</th>\n",
       "      <th>coordinates</th>\n",
       "      <th>created_at</th>\n",
       "      <th>entities</th>\n",
       "      <th>extended_entities</th>\n",
       "      <th>favorite_count</th>\n",
       "      <th>favorited</th>\n",
       "      <th>geo</th>\n",
       "      <th>id</th>\n",
       "      <th>id_str</th>\n",
       "      <th>...</th>\n",
       "      <th>quoted_status_id</th>\n",
       "      <th>quoted_status_id_str</th>\n",
       "      <th>retweet_count</th>\n",
       "      <th>retweeted</th>\n",
       "      <th>retweeted_status</th>\n",
       "      <th>source</th>\n",
       "      <th>text</th>\n",
       "      <th>truncated</th>\n",
       "      <th>user</th>\n",
       "      <th>tweetsource</th>\n",
       "    </tr>\n",
       "  </thead>\n",
       "  <tbody>\n",
       "    <tr>\n",
       "      <th>0</th>\n",
       "      <td>NaN</td>\n",
       "      <td>NaN</td>\n",
       "      <td>2016-12-06 22:36:12</td>\n",
       "      <td>{'hashtags': [{'indices': [28, 37], 'text': 'R...</td>\n",
       "      <td>NaN</td>\n",
       "      <td>0</td>\n",
       "      <td>False</td>\n",
       "      <td>NaN</td>\n",
       "      <td>806266015214608385</td>\n",
       "      <td>806266015214608384</td>\n",
       "      <td>...</td>\n",
       "      <td>NaN</td>\n",
       "      <td>NaN</td>\n",
       "      <td>463</td>\n",
       "      <td>False</td>\n",
       "      <td>{'entities': {'hashtags': [{'indices': [11, 20...</td>\n",
       "      <td>&lt;a href=\"http://twitter.com/download/iphone\" r...</td>\n",
       "      <td>RT @AlabamaFTBL: It's back! #RollTide</td>\n",
       "      <td>False</td>\n",
       "      <td>{'notifications': None, 'entities': {'descript...</td>\n",
       "      <td>@AlabamaFTBL</td>\n",
       "    </tr>\n",
       "    <tr>\n",
       "      <th>1</th>\n",
       "      <td>NaN</td>\n",
       "      <td>NaN</td>\n",
       "      <td>2016-12-06 22:36:08</td>\n",
       "      <td>{'hashtags': [{'indices': [69, 78], 'text': 'R...</td>\n",
       "      <td>{'media': [{'media_url': 'http://pbs.twimg.com...</td>\n",
       "      <td>0</td>\n",
       "      <td>False</td>\n",
       "      <td>NaN</td>\n",
       "      <td>806266000228421632</td>\n",
       "      <td>806266000228421632</td>\n",
       "      <td>...</td>\n",
       "      <td>NaN</td>\n",
       "      <td>NaN</td>\n",
       "      <td>62</td>\n",
       "      <td>False</td>\n",
       "      <td>{'entities': {'hashtags': [{'indices': [52, 61...</td>\n",
       "      <td>&lt;a href=\"http://twitter.com/download/android\" ...</td>\n",
       "      <td>RT @AlabamaFTBL: Congratulations to our All-SE...</td>\n",
       "      <td>False</td>\n",
       "      <td>{'notifications': None, 'entities': {'descript...</td>\n",
       "      <td>@AlabamaFTBL</td>\n",
       "    </tr>\n",
       "    <tr>\n",
       "      <th>2</th>\n",
       "      <td>NaN</td>\n",
       "      <td>NaN</td>\n",
       "      <td>2016-12-06 22:36:03</td>\n",
       "      <td>{'hashtags': [{'indices': [69, 78], 'text': 'R...</td>\n",
       "      <td>{'media': [{'media_url': 'http://pbs.twimg.com...</td>\n",
       "      <td>0</td>\n",
       "      <td>False</td>\n",
       "      <td>NaN</td>\n",
       "      <td>806265978191548416</td>\n",
       "      <td>806265978191548416</td>\n",
       "      <td>...</td>\n",
       "      <td>NaN</td>\n",
       "      <td>NaN</td>\n",
       "      <td>62</td>\n",
       "      <td>False</td>\n",
       "      <td>{'entities': {'hashtags': [{'indices': [52, 61...</td>\n",
       "      <td>&lt;a href=\"http://twitter.com/download/iphone\" r...</td>\n",
       "      <td>RT @AlabamaFTBL: Congratulations to our All-SE...</td>\n",
       "      <td>False</td>\n",
       "      <td>{'notifications': None, 'entities': {'descript...</td>\n",
       "      <td>@AlabamaFTBL</td>\n",
       "    </tr>\n",
       "    <tr>\n",
       "      <th>3</th>\n",
       "      <td>NaN</td>\n",
       "      <td>NaN</td>\n",
       "      <td>2016-12-06 22:35:46</td>\n",
       "      <td>{'hashtags': [{'indices': [69, 78], 'text': 'R...</td>\n",
       "      <td>{'media': [{'media_url': 'http://pbs.twimg.com...</td>\n",
       "      <td>0</td>\n",
       "      <td>False</td>\n",
       "      <td>NaN</td>\n",
       "      <td>806265908662517764</td>\n",
       "      <td>806265908662517760</td>\n",
       "      <td>...</td>\n",
       "      <td>NaN</td>\n",
       "      <td>NaN</td>\n",
       "      <td>62</td>\n",
       "      <td>False</td>\n",
       "      <td>{'entities': {'hashtags': [{'indices': [52, 61...</td>\n",
       "      <td>&lt;a href=\"http://twitter.com/download/iphone\" r...</td>\n",
       "      <td>RT @AlabamaFTBL: Congratulations to our All-SE...</td>\n",
       "      <td>False</td>\n",
       "      <td>{'notifications': None, 'entities': {'descript...</td>\n",
       "      <td>@AlabamaFTBL</td>\n",
       "    </tr>\n",
       "    <tr>\n",
       "      <th>4</th>\n",
       "      <td>NaN</td>\n",
       "      <td>NaN</td>\n",
       "      <td>2016-12-06 22:35:41</td>\n",
       "      <td>{'hashtags': [{'indices': [69, 78], 'text': 'R...</td>\n",
       "      <td>{'media': [{'media_url': 'http://pbs.twimg.com...</td>\n",
       "      <td>0</td>\n",
       "      <td>False</td>\n",
       "      <td>NaN</td>\n",
       "      <td>806265886927716353</td>\n",
       "      <td>806265886927716352</td>\n",
       "      <td>...</td>\n",
       "      <td>NaN</td>\n",
       "      <td>NaN</td>\n",
       "      <td>62</td>\n",
       "      <td>False</td>\n",
       "      <td>{'entities': {'hashtags': [{'indices': [52, 61...</td>\n",
       "      <td>&lt;a href=\"http://twitter.com/download/iphone\" r...</td>\n",
       "      <td>RT @AlabamaFTBL: Congratulations to our All-SE...</td>\n",
       "      <td>False</td>\n",
       "      <td>{'notifications': None, 'entities': {'descript...</td>\n",
       "      <td>@AlabamaFTBL</td>\n",
       "    </tr>\n",
       "  </tbody>\n",
       "</table>\n",
       "<p>5 rows × 31 columns</p>\n",
       "</div>"
      ],
      "text/plain": [
       "   contributors coordinates          created_at  \\\n",
       "0           NaN         NaN 2016-12-06 22:36:12   \n",
       "1           NaN         NaN 2016-12-06 22:36:08   \n",
       "2           NaN         NaN 2016-12-06 22:36:03   \n",
       "3           NaN         NaN 2016-12-06 22:35:46   \n",
       "4           NaN         NaN 2016-12-06 22:35:41   \n",
       "\n",
       "                                            entities  \\\n",
       "0  {'hashtags': [{'indices': [28, 37], 'text': 'R...   \n",
       "1  {'hashtags': [{'indices': [69, 78], 'text': 'R...   \n",
       "2  {'hashtags': [{'indices': [69, 78], 'text': 'R...   \n",
       "3  {'hashtags': [{'indices': [69, 78], 'text': 'R...   \n",
       "4  {'hashtags': [{'indices': [69, 78], 'text': 'R...   \n",
       "\n",
       "                                   extended_entities  favorite_count  \\\n",
       "0                                                NaN               0   \n",
       "1  {'media': [{'media_url': 'http://pbs.twimg.com...               0   \n",
       "2  {'media': [{'media_url': 'http://pbs.twimg.com...               0   \n",
       "3  {'media': [{'media_url': 'http://pbs.twimg.com...               0   \n",
       "4  {'media': [{'media_url': 'http://pbs.twimg.com...               0   \n",
       "\n",
       "  favorited  geo                  id              id_str      ...       \\\n",
       "0     False  NaN  806266015214608385  806266015214608384      ...        \n",
       "1     False  NaN  806266000228421632  806266000228421632      ...        \n",
       "2     False  NaN  806265978191548416  806265978191548416      ...        \n",
       "3     False  NaN  806265908662517764  806265908662517760      ...        \n",
       "4     False  NaN  806265886927716353  806265886927716352      ...        \n",
       "\n",
       "  quoted_status_id  quoted_status_id_str  retweet_count  retweeted  \\\n",
       "0              NaN                   NaN            463      False   \n",
       "1              NaN                   NaN             62      False   \n",
       "2              NaN                   NaN             62      False   \n",
       "3              NaN                   NaN             62      False   \n",
       "4              NaN                   NaN             62      False   \n",
       "\n",
       "                                    retweeted_status  \\\n",
       "0  {'entities': {'hashtags': [{'indices': [11, 20...   \n",
       "1  {'entities': {'hashtags': [{'indices': [52, 61...   \n",
       "2  {'entities': {'hashtags': [{'indices': [52, 61...   \n",
       "3  {'entities': {'hashtags': [{'indices': [52, 61...   \n",
       "4  {'entities': {'hashtags': [{'indices': [52, 61...   \n",
       "\n",
       "                                              source  \\\n",
       "0  <a href=\"http://twitter.com/download/iphone\" r...   \n",
       "1  <a href=\"http://twitter.com/download/android\" ...   \n",
       "2  <a href=\"http://twitter.com/download/iphone\" r...   \n",
       "3  <a href=\"http://twitter.com/download/iphone\" r...   \n",
       "4  <a href=\"http://twitter.com/download/iphone\" r...   \n",
       "\n",
       "                                                text truncated  \\\n",
       "0              RT @AlabamaFTBL: It's back! #RollTide     False   \n",
       "1  RT @AlabamaFTBL: Congratulations to our All-SE...     False   \n",
       "2  RT @AlabamaFTBL: Congratulations to our All-SE...     False   \n",
       "3  RT @AlabamaFTBL: Congratulations to our All-SE...     False   \n",
       "4  RT @AlabamaFTBL: Congratulations to our All-SE...     False   \n",
       "\n",
       "                                                user   tweetsource  \n",
       "0  {'notifications': None, 'entities': {'descript...  @AlabamaFTBL  \n",
       "1  {'notifications': None, 'entities': {'descript...  @AlabamaFTBL  \n",
       "2  {'notifications': None, 'entities': {'descript...  @AlabamaFTBL  \n",
       "3  {'notifications': None, 'entities': {'descript...  @AlabamaFTBL  \n",
       "4  {'notifications': None, 'entities': {'descript...  @AlabamaFTBL  \n",
       "\n",
       "[5 rows x 31 columns]"
      ]
     },
     "execution_count": 4,
     "metadata": {},
     "output_type": "execute_result"
    }
   ],
   "source": [
    "all_data.head()\n"
   ]
  },
  {
   "cell_type": "code",
   "execution_count": 5,
   "metadata": {
    "collapsed": false
   },
   "outputs": [
    {
     "name": "stdout",
     "output_type": "stream",
     "text": [
      "57778\n"
     ]
    }
   ],
   "source": [
    "print(len(all_data))"
   ]
  },
  {
   "cell_type": "markdown",
   "metadata": {},
   "source": [
    "## Identify needed columns and remove duplicate records"
   ]
  },
  {
   "cell_type": "code",
   "execution_count": 6,
   "metadata": {
    "collapsed": false
   },
   "outputs": [
    {
     "data": {
      "text/plain": [
       "['contributors',\n",
       " 'coordinates',\n",
       " 'created_at',\n",
       " 'entities',\n",
       " 'extended_entities',\n",
       " 'favorite_count',\n",
       " 'favorited',\n",
       " 'geo',\n",
       " 'id',\n",
       " 'id_str',\n",
       " 'in_reply_to_screen_name',\n",
       " 'in_reply_to_status_id',\n",
       " 'in_reply_to_status_id_str',\n",
       " 'in_reply_to_user_id',\n",
       " 'in_reply_to_user_id_str',\n",
       " 'is_quote_status',\n",
       " 'lang',\n",
       " 'metadata',\n",
       " 'place',\n",
       " 'possibly_sensitive',\n",
       " 'quoted_status',\n",
       " 'quoted_status_id',\n",
       " 'quoted_status_id_str',\n",
       " 'retweet_count',\n",
       " 'retweeted',\n",
       " 'retweeted_status',\n",
       " 'source',\n",
       " 'text',\n",
       " 'truncated',\n",
       " 'user',\n",
       " 'tweetsource']"
      ]
     },
     "execution_count": 6,
     "metadata": {},
     "output_type": "execute_result"
    }
   ],
   "source": [
    "list(all_data.columns.values)"
   ]
  },
  {
   "cell_type": "code",
   "execution_count": 7,
   "metadata": {
    "collapsed": false
   },
   "outputs": [],
   "source": [
    "#desired columns\n",
    "list_important_cols = ['user','text','id','retweeted','retweeted_status','retweet_count','tweetsource','created_at']"
   ]
  },
  {
   "cell_type": "code",
   "execution_count": 8,
   "metadata": {
    "collapsed": false
   },
   "outputs": [
    {
     "data": {
      "text/html": [
       "<div>\n",
       "<table border=\"1\" class=\"dataframe\">\n",
       "  <thead>\n",
       "    <tr style=\"text-align: right;\">\n",
       "      <th></th>\n",
       "      <th>user</th>\n",
       "      <th>text</th>\n",
       "      <th>id</th>\n",
       "      <th>retweeted</th>\n",
       "      <th>retweeted_status</th>\n",
       "      <th>retweet_count</th>\n",
       "      <th>tweetsource</th>\n",
       "      <th>created_at</th>\n",
       "    </tr>\n",
       "  </thead>\n",
       "  <tbody>\n",
       "    <tr>\n",
       "      <th>0</th>\n",
       "      <td>{'notifications': None, 'entities': {'descript...</td>\n",
       "      <td>RT @AlabamaFTBL: It's back! #RollTide</td>\n",
       "      <td>806266015214608385</td>\n",
       "      <td>False</td>\n",
       "      <td>{'entities': {'hashtags': [{'indices': [11, 20...</td>\n",
       "      <td>463</td>\n",
       "      <td>@AlabamaFTBL</td>\n",
       "      <td>2016-12-06 22:36:12</td>\n",
       "    </tr>\n",
       "    <tr>\n",
       "      <th>1</th>\n",
       "      <td>{'notifications': None, 'entities': {'descript...</td>\n",
       "      <td>RT @AlabamaFTBL: Congratulations to our All-SE...</td>\n",
       "      <td>806266000228421632</td>\n",
       "      <td>False</td>\n",
       "      <td>{'entities': {'hashtags': [{'indices': [52, 61...</td>\n",
       "      <td>62</td>\n",
       "      <td>@AlabamaFTBL</td>\n",
       "      <td>2016-12-06 22:36:08</td>\n",
       "    </tr>\n",
       "    <tr>\n",
       "      <th>2</th>\n",
       "      <td>{'notifications': None, 'entities': {'descript...</td>\n",
       "      <td>RT @AlabamaFTBL: Congratulations to our All-SE...</td>\n",
       "      <td>806265978191548416</td>\n",
       "      <td>False</td>\n",
       "      <td>{'entities': {'hashtags': [{'indices': [52, 61...</td>\n",
       "      <td>62</td>\n",
       "      <td>@AlabamaFTBL</td>\n",
       "      <td>2016-12-06 22:36:03</td>\n",
       "    </tr>\n",
       "    <tr>\n",
       "      <th>3</th>\n",
       "      <td>{'notifications': None, 'entities': {'descript...</td>\n",
       "      <td>RT @AlabamaFTBL: Congratulations to our All-SE...</td>\n",
       "      <td>806265908662517764</td>\n",
       "      <td>False</td>\n",
       "      <td>{'entities': {'hashtags': [{'indices': [52, 61...</td>\n",
       "      <td>62</td>\n",
       "      <td>@AlabamaFTBL</td>\n",
       "      <td>2016-12-06 22:35:46</td>\n",
       "    </tr>\n",
       "    <tr>\n",
       "      <th>4</th>\n",
       "      <td>{'notifications': None, 'entities': {'descript...</td>\n",
       "      <td>RT @AlabamaFTBL: Congratulations to our All-SE...</td>\n",
       "      <td>806265886927716353</td>\n",
       "      <td>False</td>\n",
       "      <td>{'entities': {'hashtags': [{'indices': [52, 61...</td>\n",
       "      <td>62</td>\n",
       "      <td>@AlabamaFTBL</td>\n",
       "      <td>2016-12-06 22:35:41</td>\n",
       "    </tr>\n",
       "  </tbody>\n",
       "</table>\n",
       "</div>"
      ],
      "text/plain": [
       "                                                user  \\\n",
       "0  {'notifications': None, 'entities': {'descript...   \n",
       "1  {'notifications': None, 'entities': {'descript...   \n",
       "2  {'notifications': None, 'entities': {'descript...   \n",
       "3  {'notifications': None, 'entities': {'descript...   \n",
       "4  {'notifications': None, 'entities': {'descript...   \n",
       "\n",
       "                                                text                  id  \\\n",
       "0              RT @AlabamaFTBL: It's back! #RollTide  806266015214608385   \n",
       "1  RT @AlabamaFTBL: Congratulations to our All-SE...  806266000228421632   \n",
       "2  RT @AlabamaFTBL: Congratulations to our All-SE...  806265978191548416   \n",
       "3  RT @AlabamaFTBL: Congratulations to our All-SE...  806265908662517764   \n",
       "4  RT @AlabamaFTBL: Congratulations to our All-SE...  806265886927716353   \n",
       "\n",
       "  retweeted                                   retweeted_status  retweet_count  \\\n",
       "0     False  {'entities': {'hashtags': [{'indices': [11, 20...            463   \n",
       "1     False  {'entities': {'hashtags': [{'indices': [52, 61...             62   \n",
       "2     False  {'entities': {'hashtags': [{'indices': [52, 61...             62   \n",
       "3     False  {'entities': {'hashtags': [{'indices': [52, 61...             62   \n",
       "4     False  {'entities': {'hashtags': [{'indices': [52, 61...             62   \n",
       "\n",
       "    tweetsource          created_at  \n",
       "0  @AlabamaFTBL 2016-12-06 22:36:12  \n",
       "1  @AlabamaFTBL 2016-12-06 22:36:08  \n",
       "2  @AlabamaFTBL 2016-12-06 22:36:03  \n",
       "3  @AlabamaFTBL 2016-12-06 22:35:46  \n",
       "4  @AlabamaFTBL 2016-12-06 22:35:41  "
      ]
     },
     "execution_count": 8,
     "metadata": {},
     "output_type": "execute_result"
    }
   ],
   "source": [
    "all_data=all_data[list_important_cols]\n",
    "all_data.head()"
   ]
  },
  {
   "cell_type": "code",
   "execution_count": 9,
   "metadata": {
    "collapsed": false
   },
   "outputs": [],
   "source": [
    "#CFB['user']="
   ]
  },
  {
   "cell_type": "code",
   "execution_count": 10,
   "metadata": {
    "collapsed": false
   },
   "outputs": [],
   "source": [
    "#remove extra data from user field and return just the screen name\n",
    "all_data['user']=all_data['user'].apply(lambda x:x['screen_name'])"
   ]
  },
  {
   "cell_type": "code",
   "execution_count": 11,
   "metadata": {
    "collapsed": false
   },
   "outputs": [],
   "source": [
    "#change retweeted_status to binary field based on if there is any value within the field\n",
    "all_data['retweeted_status']=all_data['retweeted_status'].apply(lambda x:False if pd.isnull(x) else True)"
   ]
  },
  {
   "cell_type": "markdown",
   "metadata": {
    "collapsed": true
   },
   "source": [
    "### Check to see if the changes to the fields look correct"
   ]
  },
  {
   "cell_type": "code",
   "execution_count": 12,
   "metadata": {
    "collapsed": false
   },
   "outputs": [
    {
     "data": {
      "text/html": [
       "<div>\n",
       "<table border=\"1\" class=\"dataframe\">\n",
       "  <thead>\n",
       "    <tr style=\"text-align: right;\">\n",
       "      <th></th>\n",
       "      <th>user</th>\n",
       "      <th>text</th>\n",
       "      <th>id</th>\n",
       "      <th>retweeted</th>\n",
       "      <th>retweeted_status</th>\n",
       "      <th>retweet_count</th>\n",
       "      <th>tweetsource</th>\n",
       "      <th>created_at</th>\n",
       "    </tr>\n",
       "  </thead>\n",
       "  <tbody>\n",
       "    <tr>\n",
       "      <th>0</th>\n",
       "      <td>beardown17</td>\n",
       "      <td>RT @AlabamaFTBL: It's back! #RollTide</td>\n",
       "      <td>806266015214608385</td>\n",
       "      <td>False</td>\n",
       "      <td>True</td>\n",
       "      <td>463</td>\n",
       "      <td>@AlabamaFTBL</td>\n",
       "      <td>2016-12-06 22:36:12</td>\n",
       "    </tr>\n",
       "    <tr>\n",
       "      <th>1</th>\n",
       "      <td>country_ALgirl</td>\n",
       "      <td>RT @AlabamaFTBL: Congratulations to our All-SE...</td>\n",
       "      <td>806266000228421632</td>\n",
       "      <td>False</td>\n",
       "      <td>True</td>\n",
       "      <td>62</td>\n",
       "      <td>@AlabamaFTBL</td>\n",
       "      <td>2016-12-06 22:36:08</td>\n",
       "    </tr>\n",
       "    <tr>\n",
       "      <th>2</th>\n",
       "      <td>logan_averett</td>\n",
       "      <td>RT @AlabamaFTBL: Congratulations to our All-SE...</td>\n",
       "      <td>806265978191548416</td>\n",
       "      <td>False</td>\n",
       "      <td>True</td>\n",
       "      <td>62</td>\n",
       "      <td>@AlabamaFTBL</td>\n",
       "      <td>2016-12-06 22:36:03</td>\n",
       "    </tr>\n",
       "    <tr>\n",
       "      <th>3</th>\n",
       "      <td>mscthedude</td>\n",
       "      <td>RT @AlabamaFTBL: Congratulations to our All-SE...</td>\n",
       "      <td>806265908662517764</td>\n",
       "      <td>False</td>\n",
       "      <td>True</td>\n",
       "      <td>62</td>\n",
       "      <td>@AlabamaFTBL</td>\n",
       "      <td>2016-12-06 22:35:46</td>\n",
       "    </tr>\n",
       "    <tr>\n",
       "      <th>4</th>\n",
       "      <td>DallasWarmack</td>\n",
       "      <td>RT @AlabamaFTBL: Congratulations to our All-SE...</td>\n",
       "      <td>806265886927716353</td>\n",
       "      <td>False</td>\n",
       "      <td>True</td>\n",
       "      <td>62</td>\n",
       "      <td>@AlabamaFTBL</td>\n",
       "      <td>2016-12-06 22:35:41</td>\n",
       "    </tr>\n",
       "  </tbody>\n",
       "</table>\n",
       "</div>"
      ],
      "text/plain": [
       "             user                                               text  \\\n",
       "0      beardown17              RT @AlabamaFTBL: It's back! #RollTide   \n",
       "1  country_ALgirl  RT @AlabamaFTBL: Congratulations to our All-SE...   \n",
       "2   logan_averett  RT @AlabamaFTBL: Congratulations to our All-SE...   \n",
       "3      mscthedude  RT @AlabamaFTBL: Congratulations to our All-SE...   \n",
       "4   DallasWarmack  RT @AlabamaFTBL: Congratulations to our All-SE...   \n",
       "\n",
       "                   id retweeted retweeted_status  retweet_count   tweetsource  \\\n",
       "0  806266015214608385     False             True            463  @AlabamaFTBL   \n",
       "1  806266000228421632     False             True             62  @AlabamaFTBL   \n",
       "2  806265978191548416     False             True             62  @AlabamaFTBL   \n",
       "3  806265908662517764     False             True             62  @AlabamaFTBL   \n",
       "4  806265886927716353     False             True             62  @AlabamaFTBL   \n",
       "\n",
       "           created_at  \n",
       "0 2016-12-06 22:36:12  \n",
       "1 2016-12-06 22:36:08  \n",
       "2 2016-12-06 22:36:03  \n",
       "3 2016-12-06 22:35:46  \n",
       "4 2016-12-06 22:35:41  "
      ]
     },
     "execution_count": 12,
     "metadata": {},
     "output_type": "execute_result"
    }
   ],
   "source": [
    "all_data.head()"
   ]
  },
  {
   "cell_type": "markdown",
   "metadata": {},
   "source": [
    "### Use NLTK to idetify the Sentiment of each tweet"
   ]
  },
  {
   "cell_type": "code",
   "execution_count": 13,
   "metadata": {
    "collapsed": false
   },
   "outputs": [
    {
     "name": "stderr",
     "output_type": "stream",
     "text": [
      "C:\\Anaconda2\\envs\\py35\\lib\\site-packages\\nltk\\twitter\\__init__.py:20: UserWarning: The twython library has not been installed. Some functionality from the twitter package will not be available.\n",
      "  warnings.warn(\"The twython library has not been installed. \"\n"
     ]
    }
   ],
   "source": [
    "from nltk.sentiment.vader import SentimentIntensityAnalyzer"
   ]
  },
  {
   "cell_type": "code",
   "execution_count": 14,
   "metadata": {
    "collapsed": false
   },
   "outputs": [],
   "source": [
    "sid=SentimentIntensityAnalyzer()"
   ]
  },
  {
   "cell_type": "code",
   "execution_count": 15,
   "metadata": {
    "collapsed": false
   },
   "outputs": [
    {
     "name": "stdout",
     "output_type": "stream",
     "text": [
      "{'neg': 0.0, 'neu': 0.572, 'compound': 0.8172, 'pos': 0.428} 2    RT @AlabamaFTBL: Congratulations to our All-SE...\n",
      "Name: text, dtype: object\n"
     ]
    }
   ],
   "source": [
    "#test to be sure vader is working correctly\n",
    "print(sid.polarity_scores(str(all_data['text'][2:3].values)),str(all_data['text'][2:3]))\n",
    "\n"
   ]
  },
  {
   "cell_type": "code",
   "execution_count": 16,
   "metadata": {
    "collapsed": false
   },
   "outputs": [
    {
     "data": {
      "text/html": [
       "<div>\n",
       "<table border=\"1\" class=\"dataframe\">\n",
       "  <thead>\n",
       "    <tr style=\"text-align: right;\">\n",
       "      <th></th>\n",
       "      <th>user</th>\n",
       "      <th>text</th>\n",
       "      <th>id</th>\n",
       "      <th>retweeted</th>\n",
       "      <th>retweeted_status</th>\n",
       "      <th>retweet_count</th>\n",
       "      <th>tweetsource</th>\n",
       "      <th>created_at</th>\n",
       "      <th>compound</th>\n",
       "      <th>neg</th>\n",
       "      <th>pos</th>\n",
       "      <th>neu</th>\n",
       "    </tr>\n",
       "  </thead>\n",
       "  <tbody>\n",
       "    <tr>\n",
       "      <th>0</th>\n",
       "      <td>beardown17</td>\n",
       "      <td>RT @AlabamaFTBL: It's back! #RollTide</td>\n",
       "      <td>806266015214608385</td>\n",
       "      <td>False</td>\n",
       "      <td>True</td>\n",
       "      <td>463</td>\n",
       "      <td>@AlabamaFTBL</td>\n",
       "      <td>2016-12-06 22:36:12</td>\n",
       "      <td>0.0000</td>\n",
       "      <td>0.0</td>\n",
       "      <td>0.000</td>\n",
       "      <td>1.000</td>\n",
       "    </tr>\n",
       "    <tr>\n",
       "      <th>1</th>\n",
       "      <td>country_ALgirl</td>\n",
       "      <td>RT @AlabamaFTBL: Congratulations to our All-SE...</td>\n",
       "      <td>806266000228421632</td>\n",
       "      <td>False</td>\n",
       "      <td>True</td>\n",
       "      <td>62</td>\n",
       "      <td>@AlabamaFTBL</td>\n",
       "      <td>2016-12-06 22:36:08</td>\n",
       "      <td>0.8172</td>\n",
       "      <td>0.0</td>\n",
       "      <td>0.428</td>\n",
       "      <td>0.572</td>\n",
       "    </tr>\n",
       "    <tr>\n",
       "      <th>2</th>\n",
       "      <td>logan_averett</td>\n",
       "      <td>RT @AlabamaFTBL: Congratulations to our All-SE...</td>\n",
       "      <td>806265978191548416</td>\n",
       "      <td>False</td>\n",
       "      <td>True</td>\n",
       "      <td>62</td>\n",
       "      <td>@AlabamaFTBL</td>\n",
       "      <td>2016-12-06 22:36:03</td>\n",
       "      <td>0.8172</td>\n",
       "      <td>0.0</td>\n",
       "      <td>0.428</td>\n",
       "      <td>0.572</td>\n",
       "    </tr>\n",
       "    <tr>\n",
       "      <th>3</th>\n",
       "      <td>mscthedude</td>\n",
       "      <td>RT @AlabamaFTBL: Congratulations to our All-SE...</td>\n",
       "      <td>806265908662517764</td>\n",
       "      <td>False</td>\n",
       "      <td>True</td>\n",
       "      <td>62</td>\n",
       "      <td>@AlabamaFTBL</td>\n",
       "      <td>2016-12-06 22:35:46</td>\n",
       "      <td>0.8172</td>\n",
       "      <td>0.0</td>\n",
       "      <td>0.428</td>\n",
       "      <td>0.572</td>\n",
       "    </tr>\n",
       "    <tr>\n",
       "      <th>4</th>\n",
       "      <td>DallasWarmack</td>\n",
       "      <td>RT @AlabamaFTBL: Congratulations to our All-SE...</td>\n",
       "      <td>806265886927716353</td>\n",
       "      <td>False</td>\n",
       "      <td>True</td>\n",
       "      <td>62</td>\n",
       "      <td>@AlabamaFTBL</td>\n",
       "      <td>2016-12-06 22:35:41</td>\n",
       "      <td>0.8172</td>\n",
       "      <td>0.0</td>\n",
       "      <td>0.428</td>\n",
       "      <td>0.572</td>\n",
       "    </tr>\n",
       "  </tbody>\n",
       "</table>\n",
       "</div>"
      ],
      "text/plain": [
       "             user                                               text  \\\n",
       "0      beardown17              RT @AlabamaFTBL: It's back! #RollTide   \n",
       "1  country_ALgirl  RT @AlabamaFTBL: Congratulations to our All-SE...   \n",
       "2   logan_averett  RT @AlabamaFTBL: Congratulations to our All-SE...   \n",
       "3      mscthedude  RT @AlabamaFTBL: Congratulations to our All-SE...   \n",
       "4   DallasWarmack  RT @AlabamaFTBL: Congratulations to our All-SE...   \n",
       "\n",
       "                   id retweeted retweeted_status  retweet_count   tweetsource  \\\n",
       "0  806266015214608385     False             True            463  @AlabamaFTBL   \n",
       "1  806266000228421632     False             True             62  @AlabamaFTBL   \n",
       "2  806265978191548416     False             True             62  @AlabamaFTBL   \n",
       "3  806265908662517764     False             True             62  @AlabamaFTBL   \n",
       "4  806265886927716353     False             True             62  @AlabamaFTBL   \n",
       "\n",
       "           created_at  compound  neg    pos    neu  \n",
       "0 2016-12-06 22:36:12    0.0000  0.0  0.000  1.000  \n",
       "1 2016-12-06 22:36:08    0.8172  0.0  0.428  0.572  \n",
       "2 2016-12-06 22:36:03    0.8172  0.0  0.428  0.572  \n",
       "3 2016-12-06 22:35:46    0.8172  0.0  0.428  0.572  \n",
       "4 2016-12-06 22:35:41    0.8172  0.0  0.428  0.572  "
      ]
     },
     "execution_count": 16,
     "metadata": {},
     "output_type": "execute_result"
    }
   ],
   "source": [
    "all_data['compound']=all_data['text'].apply(lambda x: sid.polarity_scores(x)['compound'])\n",
    "all_data['neg']=all_data['text'].apply(lambda x: sid.polarity_scores(x)['neg'])\n",
    "all_data['pos']=all_data['text'].apply(lambda x: sid.polarity_scores(x)['pos'])\n",
    "all_data['neu']=all_data['text'].apply(lambda x: sid.polarity_scores(x)['neu'])\n",
    "all_data.head()"
   ]
  },
  {
   "cell_type": "markdown",
   "metadata": {},
   "source": [
    "### now export the completed file to csv"
   ]
  },
  {
   "cell_type": "code",
   "execution_count": 17,
   "metadata": {
    "collapsed": false
   },
   "outputs": [],
   "source": [
    "all_data.to_csv('CFBClean.csv')"
   ]
  }
 ],
 "metadata": {
  "anaconda-cloud": {},
  "kernelspec": {
   "display_name": "Python [py35]",
   "language": "python",
   "name": "Python [py35]"
  },
  "language_info": {
   "codemirror_mode": {
    "name": "ipython",
    "version": 3
   },
   "file_extension": ".py",
   "mimetype": "text/x-python",
   "name": "python",
   "nbconvert_exporter": "python",
   "pygments_lexer": "ipython3",
   "version": "3.5.2"
  }
 },
 "nbformat": 4,
 "nbformat_minor": 0
}
