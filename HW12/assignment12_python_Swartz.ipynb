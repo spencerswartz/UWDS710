{
 "cells": [
  {
   "cell_type": "markdown",
   "metadata": {},
   "source": [
    "# Problem 1(a).  A collectible card class.\n",
    "\n",
    "You are tasked with organizing information about a Magic: The Gathering card collection.  You are particularly interested in which cards are most rare, and therefore most valuable.\n",
    "\n",
    "The MTG JSON website (http://mtgjson.com/) has information about different sets of Magic: The Gathering cards in JSON format.  Using the [Example Card](http://mtgjson.com/#exampleCard) information, create a MagicCard class to store relevant information about Magic cards in Python.\n",
    "\n",
    "Consider:\n",
    "\n",
    "* How should someone initialize an instance of your class?\n",
    "* What functions should your class have?"
   ]
  },
  {
   "cell_type": "code",
   "execution_count": 1,
   "metadata": {
    "collapsed": true
   },
   "outputs": [],
   "source": [
    "class MagicCard(object):\n",
    "    \n",
    "    def __init__(self, name=\"\", manaCost= \"\", cmc=\"\", colors= \"\", type=\"\", supertypes=\"\",\n",
    "                 types=\"\",subtypes=\"\",rarity=\"\",text=\"\",flavor=\"\",artist=\"\",number=\"\",\n",
    "                power=\"\",toughness=\"\",layout=\"\",multiverseid=\"\",imageName=\"\",id=\"\"):\n",
    "        self.name = name\n",
    "        self.manaCost = manaCost\n",
    "        self.cmc = cmc\n",
    "        self.colors = colors\n",
    "        self.type = type\n",
    "        self.supertypes = supertypes\n",
    "        self.types = types\n",
    "        self.subtypes = subtypes\n",
    "        self.rarity = rarity\n",
    "        self.text = text\n",
    "        self.flavor = flavor\n",
    "        self.artist = artist\n",
    "        self.number = number\n",
    "        self.power = power\n",
    "        self.toughness = toughness\n",
    "        self.layout = layout\n",
    "        self.multiverseid = multiverseid\n",
    "        self.imageName = imageName\n",
    "        self.id = id\n",
    "    \n",
    "    def get_name(self):\n",
    "        \"\"\" return name\"\"\"\n",
    "        return self.name\n",
    "    \n",
    "    def get_manaCost(self):\n",
    "        \"\"\" return manaCost\"\"\"\n",
    "        return self.manaCost\n",
    "    \n",
    "    def get_cmc(self):\n",
    "        \"\"\" return cmc\"\"\"\n",
    "        return self.cmc\n",
    "    \n",
    "    def get_colors(self):\n",
    "        \"\"\" return colors\"\"\"\n",
    "        return self.colors\n",
    "    \n",
    "    def get_type(self):\n",
    "        \"\"\" return type\"\"\"\n",
    "        return self.type\n",
    "    \n",
    "    def get_supertypes(self):\n",
    "        \"\"\" return supertypes\"\"\"\n",
    "        return self.supertypes\n",
    "    def get_types(self):\n",
    "        \"\"\" return types\"\"\"\n",
    "        return self.types\n",
    "    def get_subtypes(self):\n",
    "        \"\"\" return subtypes\"\"\"\n",
    "        return self.subtypes\n",
    "    def get_rarity(self):\n",
    "        \"\"\" return rarity\"\"\"\n",
    "        return self.rarity\n",
    "    def get_text(self):\n",
    "        \"\"\" return text\"\"\"\n",
    "        return self.text\n",
    "    def get_flavor(self):\n",
    "        \"\"\" return flavor\"\"\"\n",
    "        return self.flavor\n",
    "    def get_artist(self):\n",
    "        \"\"\" return artist\"\"\"\n",
    "        return self.artist\n",
    "    def get_number(self):\n",
    "        \"\"\" return number\"\"\"\n",
    "        return self.number\n",
    "    def get_power(self):\n",
    "        \"\"\" return power\"\"\"\n",
    "        return self.power\n",
    "    def get_toughness(self):\n",
    "        \"\"\" return toughness\"\"\"\n",
    "        return self.toughness\n",
    "    def get_layout(self):\n",
    "        \"\"\" return layout\"\"\"\n",
    "        return self.layout\n",
    "    def get_multiverseid(self):\n",
    "        \"\"\" return multiverseid\"\"\"\n",
    "        return self.multiverseid\n",
    "    def get_imageName(self):\n",
    "        \"\"\" return imageName\"\"\"\n",
    "        return self.imageName\n",
    "    def get_id(self):\n",
    "        \"\"\" return id\"\"\"\n",
    "        return self.id"
   ]
  },
  {
   "cell_type": "markdown",
   "metadata": {},
   "source": [
    "# Problem 1(b). Class for a set of Magic cards.\n",
    "\n",
    "Download the data for the Dragons of Tarkir set from the [Individual Sets](http://mtgjson.com/#individualSets) section of the MTG JSON page.  Create a MagicCardSet class to store relevant information about a set of Magic cards, and create an instance of the class which contains all of the information about the Dragons of Tarkir set."
   ]
  },
  {
   "cell_type": "code",
   "execution_count": 2,
   "metadata": {
    "collapsed": false
   },
   "outputs": [
    {
     "data": {
      "text/plain": [
       "dict_keys(['name', 'mkm_id', 'releaseDate', 'border', 'block', 'magicCardsInfoCode', 'mkm_name', 'type', 'translations', 'cards', 'code', 'booster'])"
      ]
     },
     "execution_count": 2,
     "metadata": {},
     "output_type": "execute_result"
    }
   ],
   "source": [
    "import json\n",
    "with open('DTK.json', encoding=\"utf8\") as data_file:\n",
    "    dtk = json.loads(data_file.read())\n",
    "dtk.keys()"
   ]
  },
  {
   "cell_type": "code",
   "execution_count": 3,
   "metadata": {
    "collapsed": true
   },
   "outputs": [],
   "source": [
    "class MagicCardSet(object):\n",
    "    def __init__(self, block=\"\", border= \"\", name=\"\", cards= \"\", mkm_id=\"\",booster=\"\",\n",
    "                 translations=\"\",type=\"\",releaseDate=\"\",magicCardsInfoCode=\"\",code=\"\",mkm_name=\"\"):\n",
    "        self.block = block\n",
    "        self.border = border\n",
    "        self.name = name\n",
    "        self.cards= cards\n",
    "        self.mkm_id = mkm_id\n",
    "        self.booster = booster\n",
    "        self.translations = translations\n",
    "        self.type = type\n",
    "        self.releaseDate = releaseDate\n",
    "        self.magicCardsInfoCode = magicCardsInfoCode\n",
    "        self.code = code\n",
    "        self.mkm_name = mkm_name\n",
    "        \n",
    "    def get_block(self):\n",
    "        \"\"\" return block\"\"\"\n",
    "        return self.block\n",
    "    def get_border(self):\n",
    "        \"\"\" return border\"\"\"\n",
    "        return self.border\n",
    "    def get_name(self):\n",
    "        \"\"\" retrun name\"\"\"\n",
    "        return self.name\n",
    "    def get_cards(self):\n",
    "        \"\"\"return cards\"\"\"\n",
    "        return self.cards\n",
    "    def get_mkm_id(self):\n",
    "        \"\"\"return mkm_id\"\"\"\n",
    "        return self.mkm_id\n",
    "    def get_booster(self):\n",
    "        \"\"\"return booster\"\"\"\n",
    "        return self.booster\n",
    "    def get_translations(self):\n",
    "        \"\"\"return translations\"\"\"\n",
    "        return self.translations\n",
    "    def get_type(self):\n",
    "        \"\"\"return type\"\"\"\n",
    "        return self.type\n",
    "    def get_releaseDate(self):\n",
    "        \"\"\"return releaseDate\"\"\"\n",
    "        return self.releaseDate\n",
    "    def get_magicCardsInfoCode(self):\n",
    "        \"\"\"return magicCardsInfoCode\"\"\"\n",
    "        return self.magicCardsInfoCode\n",
    "    def get_code(self):\n",
    "        \"\"\"return code\"\"\"\n",
    "        return self.code\n",
    "    def get_mkm_name(self):\n",
    "        return self.mkm_name\n",
    "    \n",
    "    "
   ]
  },
  {
   "cell_type": "code",
   "execution_count": 4,
   "metadata": {
    "collapsed": false
   },
   "outputs": [],
   "source": [
    "dragons = MagicCardSet(dtk[\"block\"], dtk[\"border\"], dtk[\"name\"], dtk[\"cards\"], dtk[\"mkm_id\"],\n",
    "             dtk[\"booster\"], dtk[\"translations\"], dtk[\"type\"], dtk[\"releaseDate\"],\n",
    "             dtk[\"magicCardsInfoCode\"], dtk[\"code\"], dtk[\"mkm_name\"])"
   ]
  },
  {
   "cell_type": "markdown",
   "metadata": {},
   "source": [
    "# Problem 1(c).  Dragons of Tarkir.\n",
    "\n",
    "What are the rarest cards in the Dragons of Tarkir set?  What colors are they associated with?\n",
    "\n",
    "Write Python code to answer this question, then create a markdown cell which explains your method and conclusions."
   ]
  },
  {
   "cell_type": "code",
   "execution_count": 5,
   "metadata": {
    "collapsed": true
   },
   "outputs": [],
   "source": [
    "card_list1=[]\n",
    "for card in dragons.cards:\n",
    "    try:\n",
    "        card_list1.append(MagicCard(manaCost=card[\"manaCost\"], cmc=card[\"cmc\"], colors=card[\"colors\"], type=card[\"type\"], supertypes=card[\"supertypes\"],\n",
    "                       types=card[\"types\"], subtypes=card[\"subtypes\"], rarity=card[\"rarity\"], text=card[\"text\"],\n",
    "                       flavor=card[\"flavor\"], artist=card[\"artist\"], number=card[\"number\"], power=card[\"power\"],\n",
    "                       toughness=card[\"toughness\"], layout=card[\"layout\"], multiverseid=card[\"multiverseid\"], imageName=card[\"imageName\"],\n",
    "                       id=card[\"id\"]))\n",
    "    except:\n",
    "        None"
   ]
  },
  {
   "cell_type": "code",
   "execution_count": 6,
   "metadata": {
    "collapsed": false
   },
   "outputs": [
    {
     "data": {
      "text/plain": [
       "4"
      ]
     },
     "execution_count": 6,
     "metadata": {},
     "output_type": "execute_result"
    }
   ],
   "source": [
    "len(card_list1)"
   ]
  },
  {
   "cell_type": "markdown",
   "metadata": {},
   "source": [
    "The above code is expected to run the 2 diffent classes and return a list of the data that is needed to run the analysis. But it returns a list of 4 length. This is likly because only 4 of the cards data includeds all of these points, otherwise python will return a key error which causing it not to include the data. becuase of this the below code again runs the data through the 2 classes and only returns the datapoints needed to produce the analysis."
   ]
  },
  {
   "cell_type": "code",
   "execution_count": 7,
   "metadata": {
    "collapsed": false
   },
   "outputs": [],
   "source": [
    "card_list2=[]\n",
    "for card in dragons.cards:\n",
    "    try:\n",
    "        card_list2.append(MagicCard(name=card[\"name\"],colors=card[\"colors\"], rarity=card[\"rarity\"]))\n",
    "    except:\n",
    "        None\n"
   ]
  },
  {
   "cell_type": "code",
   "execution_count": 8,
   "metadata": {
    "collapsed": false
   },
   "outputs": [
    {
     "data": {
      "text/plain": [
       "232"
      ]
     },
     "execution_count": 8,
     "metadata": {},
     "output_type": "execute_result"
    }
   ],
   "source": [
    "len(card_list2)"
   ]
  },
  {
   "cell_type": "code",
   "execution_count": 9,
   "metadata": {
    "collapsed": false
   },
   "outputs": [
    {
     "data": {
      "text/html": [
       "<div>\n",
       "<table border=\"1\" class=\"dataframe\">\n",
       "  <thead>\n",
       "    <tr style=\"text-align: right;\">\n",
       "      <th></th>\n",
       "      <th>Colors</th>\n",
       "      <th>Name</th>\n",
       "      <th>Rarity</th>\n",
       "    </tr>\n",
       "  </thead>\n",
       "  <tbody>\n",
       "    <tr>\n",
       "      <th>0</th>\n",
       "      <td>[White]</td>\n",
       "      <td>Anafenza, Kin-Tree Spirit</td>\n",
       "      <td>Rare</td>\n",
       "    </tr>\n",
       "    <tr>\n",
       "      <th>1</th>\n",
       "      <td>[White]</td>\n",
       "      <td>Arashin Foremost</td>\n",
       "      <td>Rare</td>\n",
       "    </tr>\n",
       "    <tr>\n",
       "      <th>2</th>\n",
       "      <td>[White]</td>\n",
       "      <td>Artful Maneuver</td>\n",
       "      <td>Common</td>\n",
       "    </tr>\n",
       "    <tr>\n",
       "      <th>3</th>\n",
       "      <td>[White]</td>\n",
       "      <td>Aven Sunstriker</td>\n",
       "      <td>Uncommon</td>\n",
       "    </tr>\n",
       "    <tr>\n",
       "      <th>4</th>\n",
       "      <td>[White]</td>\n",
       "      <td>Aven Tactician</td>\n",
       "      <td>Common</td>\n",
       "    </tr>\n",
       "  </tbody>\n",
       "</table>\n",
       "</div>"
      ],
      "text/plain": [
       "    Colors                       Name    Rarity\n",
       "0  [White]  Anafenza, Kin-Tree Spirit      Rare\n",
       "1  [White]           Arashin Foremost      Rare\n",
       "2  [White]            Artful Maneuver    Common\n",
       "3  [White]            Aven Sunstriker  Uncommon\n",
       "4  [White]             Aven Tactician    Common"
      ]
     },
     "execution_count": 9,
     "metadata": {},
     "output_type": "execute_result"
    }
   ],
   "source": [
    "import pandas as pd\n",
    "column_names = (\"Name\", \"Colors\", \"Rarity\")\n",
    "dict_list = []\n",
    "for card in card_list2:\n",
    "    dict_list.append(dict(zip(column_names, [card.get_name(),card.get_colors(),card.get_rarity()])))\n",
    "cards_df = pd.DataFrame(dict_list)\n",
    "cards_df.head()"
   ]
  },
  {
   "cell_type": "markdown",
   "metadata": {},
   "source": [
    "in the above cell we take the data stored in the list and convert it to a dataframe including a list of colors in one column the name of the card in the next and the Rarity in the last."
   ]
  },
  {
   "cell_type": "code",
   "execution_count": 10,
   "metadata": {
    "collapsed": false
   },
   "outputs": [
    {
     "data": {
      "text/plain": [
       "Common         95\n",
       "Uncommon       70\n",
       "Rare           52\n",
       "Mythic Rare    15\n",
       "Name: Rarity, dtype: int64"
      ]
     },
     "execution_count": 10,
     "metadata": {},
     "output_type": "execute_result"
    }
   ],
   "source": [
    "cards_df['Rarity'].value_counts()"
   ]
  },
  {
   "cell_type": "markdown",
   "metadata": {},
   "source": [
    "assumeing from the above output that the ***Mythic Rare*** is the most rare type we cas narrow down the results to just those 15"
   ]
  },
  {
   "cell_type": "code",
   "execution_count": 11,
   "metadata": {
    "collapsed": false
   },
   "outputs": [
    {
     "data": {
      "text/html": [
       "<div>\n",
       "<table border=\"1\" class=\"dataframe\">\n",
       "  <thead>\n",
       "    <tr style=\"text-align: right;\">\n",
       "      <th></th>\n",
       "      <th>Colors</th>\n",
       "      <th>Name</th>\n",
       "      <th>Rarity</th>\n",
       "    </tr>\n",
       "  </thead>\n",
       "  <tbody>\n",
       "    <tr>\n",
       "      <th>25</th>\n",
       "      <td>[White]</td>\n",
       "      <td>Ojutai Exemplars</td>\n",
       "      <td>Mythic Rare</td>\n",
       "    </tr>\n",
       "    <tr>\n",
       "      <th>46</th>\n",
       "      <td>[Blue]</td>\n",
       "      <td>Clone Legion</td>\n",
       "      <td>Mythic Rare</td>\n",
       "    </tr>\n",
       "    <tr>\n",
       "      <th>71</th>\n",
       "      <td>[Blue]</td>\n",
       "      <td>Shorecrasher Elemental</td>\n",
       "      <td>Mythic Rare</td>\n",
       "    </tr>\n",
       "    <tr>\n",
       "      <th>114</th>\n",
       "      <td>[Black]</td>\n",
       "      <td>Risen Executioner</td>\n",
       "      <td>Mythic Rare</td>\n",
       "    </tr>\n",
       "    <tr>\n",
       "      <th>131</th>\n",
       "      <td>[Red]</td>\n",
       "      <td>Descent of the Dragons</td>\n",
       "      <td>Mythic Rare</td>\n",
       "    </tr>\n",
       "    <tr>\n",
       "      <th>135</th>\n",
       "      <td>[Red]</td>\n",
       "      <td>Dragon Whisperer</td>\n",
       "      <td>Mythic Rare</td>\n",
       "    </tr>\n",
       "    <tr>\n",
       "      <th>178</th>\n",
       "      <td>[Green]</td>\n",
       "      <td>Deathmist Raptor</td>\n",
       "      <td>Mythic Rare</td>\n",
       "    </tr>\n",
       "    <tr>\n",
       "      <th>202</th>\n",
       "      <td>[Green]</td>\n",
       "      <td>Shaman of Forgotten Ways</td>\n",
       "      <td>Mythic Rare</td>\n",
       "    </tr>\n",
       "    <tr>\n",
       "      <th>214</th>\n",
       "      <td>[Red, Green]</td>\n",
       "      <td>Dragonlord Atarka</td>\n",
       "      <td>Mythic Rare</td>\n",
       "    </tr>\n",
       "    <tr>\n",
       "      <th>215</th>\n",
       "      <td>[White, Green]</td>\n",
       "      <td>Dragonlord Dromoka</td>\n",
       "      <td>Mythic Rare</td>\n",
       "    </tr>\n",
       "    <tr>\n",
       "      <th>216</th>\n",
       "      <td>[Black, Red]</td>\n",
       "      <td>Dragonlord Kolaghan</td>\n",
       "      <td>Mythic Rare</td>\n",
       "    </tr>\n",
       "    <tr>\n",
       "      <th>217</th>\n",
       "      <td>[White, Blue]</td>\n",
       "      <td>Dragonlord Ojutai</td>\n",
       "      <td>Mythic Rare</td>\n",
       "    </tr>\n",
       "    <tr>\n",
       "      <th>218</th>\n",
       "      <td>[Blue, Black]</td>\n",
       "      <td>Dragonlord Silumgar</td>\n",
       "      <td>Mythic Rare</td>\n",
       "    </tr>\n",
       "    <tr>\n",
       "      <th>223</th>\n",
       "      <td>[White, Blue]</td>\n",
       "      <td>Narset Transcendent</td>\n",
       "      <td>Mythic Rare</td>\n",
       "    </tr>\n",
       "    <tr>\n",
       "      <th>228</th>\n",
       "      <td>[Blue, Red, Green]</td>\n",
       "      <td>Sarkhan Unbroken</td>\n",
       "      <td>Mythic Rare</td>\n",
       "    </tr>\n",
       "  </tbody>\n",
       "</table>\n",
       "</div>"
      ],
      "text/plain": [
       "                 Colors                      Name       Rarity\n",
       "25              [White]          Ojutai Exemplars  Mythic Rare\n",
       "46               [Blue]              Clone Legion  Mythic Rare\n",
       "71               [Blue]    Shorecrasher Elemental  Mythic Rare\n",
       "114             [Black]         Risen Executioner  Mythic Rare\n",
       "131               [Red]    Descent of the Dragons  Mythic Rare\n",
       "135               [Red]          Dragon Whisperer  Mythic Rare\n",
       "178             [Green]          Deathmist Raptor  Mythic Rare\n",
       "202             [Green]  Shaman of Forgotten Ways  Mythic Rare\n",
       "214        [Red, Green]         Dragonlord Atarka  Mythic Rare\n",
       "215      [White, Green]        Dragonlord Dromoka  Mythic Rare\n",
       "216        [Black, Red]       Dragonlord Kolaghan  Mythic Rare\n",
       "217       [White, Blue]         Dragonlord Ojutai  Mythic Rare\n",
       "218       [Blue, Black]       Dragonlord Silumgar  Mythic Rare\n",
       "223       [White, Blue]       Narset Transcendent  Mythic Rare\n",
       "228  [Blue, Red, Green]          Sarkhan Unbroken  Mythic Rare"
      ]
     },
     "execution_count": 11,
     "metadata": {},
     "output_type": "execute_result"
    }
   ],
   "source": [
    "MR=cards_df[cards_df['Rarity']=='Mythic Rare']\n",
    "MR"
   ]
  },
  {
   "cell_type": "code",
   "execution_count": 12,
   "metadata": {
    "collapsed": false
   },
   "outputs": [
    {
     "name": "stdout",
     "output_type": "stream",
     "text": [
      "[['White'], ['Blue'], ['Blue'], ['Black'], ['Red'], ['Red'], ['Green'], ['Green'], ['Red', 'Green'], ['White', 'Green'], ['Black', 'Red'], ['White', 'Blue'], ['Blue', 'Black'], ['White', 'Blue'], ['Blue', 'Red', 'Green']]\n",
      "['White', 'Blue', 'Blue', 'Black', 'Red', 'Red', 'Green', 'Green', 'Red', 'Green', 'White', 'Green', 'Black', 'Red', 'White', 'Blue', 'Blue', 'Black', 'White', 'Blue', 'Blue', 'Red', 'Green']\n"
     ]
    },
    {
     "data": {
      "text/plain": [
       "Blue     6\n",
       "Red      5\n",
       "Green    5\n",
       "White    4\n",
       "Black    3\n",
       "dtype: int64"
      ]
     },
     "execution_count": 12,
     "metadata": {},
     "output_type": "execute_result"
    }
   ],
   "source": [
    "MRcolors=[]\n",
    "for index,row in MR.iterrows():\n",
    "    MRcolors.append(row['Colors'])\n",
    "print(MRcolors)\n",
    "flatten = lambda l: [item for sublist in l for item in sublist]\n",
    "MRcolorsFlat = flatten(MRcolors)\n",
    "print(MRcolorsFlat)\n",
    "MRcolorsFlat=pd.Series(MRcolorsFlat)\n",
    "MRcolorsFlat.value_counts()"
   ]
  },
  {
   "cell_type": "markdown",
   "metadata": {},
   "source": [
    "In the 2 cells above we narrow the data frame to just the Mythic Rare cards. We then extract the list of colors from the colors column and create a list of lists. We then were able to extract the values of each sublist to create one single list. This was then transformed into a Pandas Series so that we could use value_counts to identify the counts of each color. From here we see that Blue is identified 6 times, Green and red 5 times and so on."
   ]
  },
  {
   "cell_type": "code",
   "execution_count": null,
   "metadata": {
    "collapsed": true
   },
   "outputs": [],
   "source": []
  }
 ],
 "metadata": {
  "kernelspec": {
   "display_name": "Python [py35]",
   "language": "python",
   "name": "Python [py35]"
  },
  "language_info": {
   "codemirror_mode": {
    "name": "ipython",
    "version": 3
   },
   "file_extension": ".py",
   "mimetype": "text/x-python",
   "name": "python",
   "nbconvert_exporter": "python",
   "pygments_lexer": "ipython3",
   "version": "3.5.2"
  }
 },
 "nbformat": 4,
 "nbformat_minor": 0
}
