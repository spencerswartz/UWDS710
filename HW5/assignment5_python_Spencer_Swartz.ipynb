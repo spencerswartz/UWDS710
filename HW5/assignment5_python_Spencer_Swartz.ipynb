{
 "cells": [
  {
   "cell_type": "markdown",
   "metadata": {},
   "source": [
    "# Spencer Swartz\n",
    "# Problem 1. Pig Latin.\n",
    "\n",
    "In \"Pig Latin\", English words are transformed according to the following rules:\n",
    "\n",
    "* If the word begins with one or more consonants, those consonants are moved to the end of the word, followed by \"ay\":\n",
    "\n",
    "  * pig -> igpay\n",
    "  * Latin -> Atinlay\n",
    "  * trash -> ashtray\n",
    "\n",
    "* If the word begins with a vowel, it is followed by \"yay\":\n",
    "\n",
    "  * apple -> appleyay\n",
    "  * out -> outyay.\n",
    "  \n",
    "Write Python code that takes a word and converts it to Pig Latin.  If the input consists of multiple words or contains punctuation, your code should print a suitable error message."
   ]
  },
  {
   "cell_type": "code",
   "execution_count": 1,
   "metadata": {
    "collapsed": false
   },
   "outputs": [],
   "source": [
    "import string\n",
    "def piglatin(word):\n",
    "    for i in word:\n",
    "        if i  in string.punctuation:\n",
    "            print 'Sorry punctuation is not allowed.'\n",
    "            return\n",
    "        elif i==' ':\n",
    "            print'Sorry multiple words are not allowed.'\n",
    "            return\n",
    "        else:\n",
    "            pass\n",
    "    if word[0] in ('a','e','i','o','u'):\n",
    "        output= word + 'yay'\n",
    "        return output\n",
    "    else:\n",
    "        x=0\n",
    "        for i in word:\n",
    "            if i in ('a','e','i','o','u'):\n",
    "                output= word[x:]+word[:x]+'ay'\n",
    "                return output\n",
    "            else:\n",
    "                pass \n",
    "            x+=1"
   ]
  },
  {
   "cell_type": "code",
   "execution_count": 2,
   "metadata": {
    "collapsed": false
   },
   "outputs": [
    {
     "name": "stdout",
     "output_type": "stream",
     "text": [
      "awkeyeshay\n"
     ]
    }
   ],
   "source": [
    "out= piglatin('hawkeyes')\n",
    "print out"
   ]
  },
  {
   "cell_type": "markdown",
   "metadata": {},
   "source": [
    "# Problem 2(a).  Letter Frequencies.\n",
    "\n",
    "The files ```encryptedA.txt``` and ```encryptedB.txt``` contain two different encrypted messages on similar topics.  One message was originally in English and one was in Welsh.  \n",
    "\n",
    "Write Python code that reads a text file into memory and creates a dictionary object with a frequency count for each letter.  For example, for ```encryptedA.txt```, your output should begin ```{'a': 78, 'b': 31, ...} ```.  Do not distinguish between uppercase and lowercase letters, and ignore punctuation.\n",
    "\n",
    "Which letter has the highest frequency in each text file?"
   ]
  },
  {
   "cell_type": "code",
   "execution_count": 3,
   "metadata": {
    "collapsed": false
   },
   "outputs": [],
   "source": [
    "def lettercount(file):\n",
    "    with open(file, 'r') as textblock:\n",
    "        text=textblock.read()\n",
    "        text.lower()\n",
    "    alph=dict()\n",
    "    for i in text:\n",
    "        if i in string.punctuation:\n",
    "            pass\n",
    "        elif i == ' ':\n",
    "            pass\n",
    "        else:\n",
    "            if i in alph:\n",
    "                alph[i]+=1\n",
    "            else:\n",
    "                alph[i]=1\n",
    "    return alph"
   ]
  },
  {
   "cell_type": "code",
   "execution_count": 4,
   "metadata": {
    "collapsed": false
   },
   "outputs": [
    {
     "name": "stdout",
     "output_type": "stream",
     "text": [
      "{'a': 78, 'c': 88, 'b': 31, 'd': 28, 'g': 78, 'f': 18, 'i': 7, 'k': 22, 'j': 36, 'm': 76, 'l': 32, 'q': 41, 'r': 114, 'u': 70, 't': 19, 'w': 76, 'v': 27, 'y': 40, 'x': 72, 'z': 16}\n",
      "{'a': 13, 'c': 54, 'b': 5, 'e': 28, 'd': 30, 'g': 56, 'f': 2, 'i': 6, 'h': 48, 'k': 85, 'j': 23, 'm': 4, 'l': 14, 'o': 48, 'n': 79, 'q': 17, 'p': 23, 's': 61, 'r': 13, 'u': 19, 't': 34, 'w': 43, 'v': 123, 'y': 92, 'x': 97, 'z': 61}\n",
      "Most frequent letter in encryptedA is r\n",
      "Most frequent letter in encryptedB is v\n"
     ]
    }
   ],
   "source": [
    "dictA=lettercount('encryptedA.txt')\n",
    "dictB=lettercount('encryptedB.txt')\n",
    "print dictA\n",
    "print dictB\n",
    "print 'Most frequent letter in encryptedA is',max(dictA, key=dictA.get)\n",
    "print 'Most frequent letter in encryptedB is',max(dictB, key=dictB.get)"
   ]
  },
  {
   "cell_type": "markdown",
   "metadata": {},
   "source": [
    "# Problem 2(b).  Formatting for R.\n",
    "\n",
    "Write your dictionaries with frequency counts to ```.csv``` files, with one column for the key and one column for the frequency counted."
   ]
  },
  {
   "cell_type": "code",
   "execution_count": 5,
   "metadata": {
    "collapsed": false
   },
   "outputs": [],
   "source": [
    "import csv\n",
    "with open('encryptedA.csv', 'wb') as csv_file:\n",
    "    writer = csv.writer(csv_file)\n",
    "    writer.writerow(['key', 'value'])\n",
    "    for key, value in dictA.items():\n",
    "       writer.writerow([key, value])\n",
    "    \n",
    "with open('encryptedB.csv', 'wb') as csv_file:\n",
    "    writer = csv.writer(csv_file)\n",
    "    writer.writerow(['key', 'value'])\n",
    "    for key, value in dictB.items():\n",
    "       writer.writerow([key, value])"
   ]
  },
  {
   "cell_type": "code",
   "execution_count": null,
   "metadata": {
    "collapsed": true
   },
   "outputs": [],
   "source": []
  }
 ],
 "metadata": {
  "kernelspec": {
   "display_name": "Python [Root]",
   "language": "python",
   "name": "Python [Root]"
  },
  "language_info": {
   "codemirror_mode": {
    "name": "ipython",
    "version": 2
   },
   "file_extension": ".py",
   "mimetype": "text/x-python",
   "name": "python",
   "nbconvert_exporter": "python",
   "pygments_lexer": "ipython2",
   "version": "2.7.12"
  }
 },
 "nbformat": 4,
 "nbformat_minor": 0
}
