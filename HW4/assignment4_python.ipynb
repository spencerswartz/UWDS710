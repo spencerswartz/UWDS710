{
 "cells": [
  {
   "cell_type": "markdown",
   "metadata": {},
   "source": [
    "# Spencer Swartz\n",
    "\n",
    "# Problem 1.  Revenue models.\n",
    "\n",
    "Average monthly revenue at each store in the TableFarm salad chain is $\\$100,000$, with a standard deviation of $\\$12,000$.  An advertising firm claims they can increase monthly revenue to $\\$120,000$, but the standard deviation will be increased as well, to $\\$25,000$.\n",
    "\n",
    "Write Python code to generate three lists of random numbers which model potential revenue: one list with 12 months of revenue using the current mean and standard deviation, another list with 12 months of revenue using the predicted mean and standard deviation, and a third list combining your first two lists.  You can assume a normal distribution.  Round each number to the nearest $\\$1,000$."
   ]
  },
  {
   "cell_type": "code",
   "execution_count": 16,
   "metadata": {
    "collapsed": true
   },
   "outputs": [],
   "source": [
    "# import random mod\n",
    "import random\n",
    "#define function\n",
    "def generate_sd_list(leng_of_list, mean, sd):\n",
    "    outputlist = []\n",
    "    for i in range(leng_of_list):\n",
    "        val = int(random.normalvariate(mean, sd))\n",
    "        close_thou = val % 1000\n",
    "        if close_thou>=500:\n",
    "            addto = 1000 - close_thou\n",
    "            val = val+addto\n",
    "        else:\n",
    "            val = val-close_thou\n",
    "        outputlist.append(val)\n",
    "    return outputlist"
   ]
  },
  {
   "cell_type": "code",
   "execution_count": 17,
   "metadata": {
    "collapsed": false
   },
   "outputs": [
    {
     "name": "stdout",
     "output_type": "stream",
     "text": [
      "[105000, 95000, 81000, 110000, 111000, 106000, 98000, 105000, 112000, 86000, 100000, 102000]\n",
      "[105000, 116000, 63000, 88000, 97000, 116000, 93000, 129000, 134000, 113000, 57000, 147000]\n",
      "[105000, 95000, 81000, 110000, 111000, 106000, 98000, 105000, 112000, 86000, 100000, 102000, 105000, 116000, 63000, 88000, 97000, 116000, 93000, 129000, 134000, 113000, 57000, 147000]\n"
     ]
    }
   ],
   "source": [
    "# current rev.\n",
    "list_cur_rev= generate_sd_list(12,100000,12000)\n",
    "print list_cur_rev\n",
    "#new rev.\n",
    "list_future_rev= generate_sd_list(12,120000,25000)\n",
    "print list_future_rev\n",
    "#combine lists\n",
    "list_comb_rev = list_cur_rev + list_future_rev\n",
    "print list_comb_rev"
   ]
  },
  {
   "cell_type": "markdown",
   "metadata": {},
   "source": [
    "# Problem 2(a).  Bus arrival times.\n",
    "\n",
    "Shuttle buses arrive at an airport to fetch passengers with an average interval of 15 minutes.  Their actual arrival times follow a [Poisson process](http://preshing.com/20111007/how-to-generate-random-timings-for-a-poisson-process/).  Use the ```random``` module to generate a list of 50 different bus intervals, rounded to the nearest minute.  For example, your list might begin ```[11, 34, 18, 23, ...]```.\n",
    "\n",
    "What is the shortest waiting time in your list?  What is the longest waiting time?"
   ]
  },
  {
   "cell_type": "code",
   "execution_count": 18,
   "metadata": {
    "collapsed": false
   },
   "outputs": [],
   "source": [
    "import math\n",
    "import random\n",
    "\n",
    "def BusTimes(numIntervals,rateParameter):\n",
    "    listArivals = list()\n",
    "    rateParameter= float(1)/rateParameter\n",
    "    for i in range(0,numIntervals):\n",
    "        arival = int(round(-math.log(1.0 - random.random()) / rateParameter))\n",
    "        listArivals.append(arival)\n",
    "    return listArivals\n",
    "    "
   ]
  },
  {
   "cell_type": "code",
   "execution_count": 19,
   "metadata": {
    "collapsed": false
   },
   "outputs": [
    {
     "name": "stdout",
     "output_type": "stream",
     "text": [
      "[10, 10, 7, 62, 3, 12, 12, 1, 3, 6, 8, 0, 1, 8, 2, 1, 18, 7, 29, 20, 23, 2, 2, 27, 28, 28, 5, 16, 7, 0, 46, 23, 4, 5, 29, 6, 16, 7, 2, 10, 2, 7, 11, 10, 3, 31, 44, 8, 20, 0]\n",
      "longest waiting time: 62\n",
      "shortest waiting time: 0\n"
     ]
    }
   ],
   "source": [
    "buslist = BusTimes(50,rateParameter = 15)\n",
    "print buslist\n",
    "print 'longest waiting time:', max(buslist)\n",
    "print 'shortest waiting time:',min(buslist)"
   ]
  },
  {
   "cell_type": "markdown",
   "metadata": {},
   "source": [
    "# Problem 2(b).  Cumulative waiting times.\n",
    "\n",
    "Suppose the first bus arrives at the measured number of minutes after midnight.  The bus company wants to track the time each bus arrived, measured in minutes after midnight.  Make a list of the number of minutes after midnight that each bus arrived at, using the list you generated in part (a).  With our example in part (a), for instance, the answer would start ```[11, 45, 63, 86, ...]```.\n",
    "\n",
    "At what time does the fiftieth bus arrive?"
   ]
  },
  {
   "cell_type": "code",
   "execution_count": 20,
   "metadata": {
    "collapsed": false
   },
   "outputs": [
    {
     "name": "stdout",
     "output_type": "stream",
     "text": [
      "[10, 20, 27, 89, 92, 104, 116, 117, 120, 126, 134, 134, 135, 143, 145, 146, 164, 171, 200, 220, 243, 245, 247, 274, 302, 330, 335, 351, 358, 358, 404, 427, 431, 436, 465, 471, 487, 494, 496, 506, 508, 515, 526, 536, 539, 570, 614, 622, 642, 642]\n",
      "The fiftieth bus arives 642 minutes after midnight.( 10:42AM )\n"
     ]
    }
   ],
   "source": [
    "j = 0\n",
    "aftermidnight=list()\n",
    "for i in buslist:\n",
    "    j=i+j\n",
    "    aftermidnight.append(j)\n",
    "minoflast= aftermidnight[-1]%60\n",
    "if aftermidnight[-1]/60 > 12:\n",
    "    houroflast=(aftermidnight[-1]/60)-12\n",
    "    time=str(houroflast)+':'+str(minoflast)+'PM'\n",
    "else:\n",
    "    houroflast=(aftermidnight[-1]/60)\n",
    "    time=str(houroflast)+':'+str(minoflast)+'AM'\n",
    "print aftermidnight\n",
    "print 'The fiftieth bus arives', aftermidnight[-1] ,'minutes after midnight.(', time,')'"
   ]
  },
  {
   "cell_type": "markdown",
   "metadata": {},
   "source": [
    "# Problem 3(a).  Chocolate and the Nobel.\n",
    "\n",
    "Researchers have observed a (presumably spurious) correlation between per capita chocolate consumption and the rate of Nobel prize laureates: see [Chocolate Consumption, Cognitive Function, and Nobel Laureates](http://www.nejm.org/doi/full/10.1056/NEJMon1211064).  In this problem, we will create some sample data to simulate this relationship.\n",
    "\n",
    "Write Python code to produce a list of 50 ordered pairs $(c,n)$, where $c$ represents chocolate consumption in kg/year/person and $n$ represents the number of Nobel laureates per 10 million population.  The values for $c$ should be random numbers (not necessarily integers!) between 0 and 15.  You may assume that $c$ and $n$ are related by\n",
    "\n",
    "$n = 0.4\\cdot c-0.8$.\n",
    "\n",
    "However, it is not possible for a nation to have a negative number of Nobel laureates, so if your predicted value of $n$ is less than 0, replace that value by 0."
   ]
  },
  {
   "cell_type": "code",
   "execution_count": 21,
   "metadata": {
    "collapsed": false
   },
   "outputs": [
    {
     "name": "stdout",
     "output_type": "stream",
     "text": [
      "[[2.03, 0.01], [2.78, 0.31], [9.18, 2.87], [1.85, 0], [6.03, 1.61], [3.68, 0.67], [4.93, 1.17], [0.47, 0], [4.77, 1.11], [13.55, 4.62], [8.54, 2.62], [3.08, 0.43], [4.07, 0.83], [5.8, 1.52], [12.58, 4.23], [2.51, 0.2], [5.48, 1.39], [11.75, 3.9], [13.47, 4.59], [1.21, 0], [4.15, 0.86], [13.0, 4.4], [11.76, 3.9], [12.07, 4.03], [1.84, 0], [6.87, 1.95], [4.66, 1.06], [11.8, 3.92], [8.08, 2.43], [7.09, 2.04], [2.44, 0.18], [1.67, 0], [0.77, 0], [2.28, 0.11], [10.17, 3.27], [2.78, 0.31], [12.4, 4.16], [9.24, 2.9], [1.52, 0], [12.95, 4.38], [4.34, 0.94], [5.5, 1.4], [2.26, 0.1], [12.32, 4.13], [0.57, 0], [4.12, 0.85], [2.73, 0.29], [3.21, 0.48], [10.92, 3.57], [9.98, 3.19]]\n"
     ]
    }
   ],
   "source": [
    "random_choc_nobel = []\n",
    "for i in range(50):\n",
    "    choc = round(random.uniform(0,15),2)\n",
    "    nobel = round(0.4*choc-0.8,2)\n",
    "    if nobel < 0:\n",
    "        nobel=0\n",
    "    record = [choc,nobel]\n",
    "    random_choc_nobel.append(record)\n",
    "print(random_choc_nobel)\n"
   ]
  },
  {
   "cell_type": "markdown",
   "metadata": {},
   "source": [
    "# Problem 3(b).  Error term.\n",
    "\n",
    "Our list of data from part (a) is not a good simulation of real-world data, because it is perfectly linear.  Starting with the $c$ and $n$ values you generated in part (a), generate new $n_e$ values, using the following formula:\n",
    "\n",
    "$n_e = n + \\epsilon.$\n",
    "\n",
    "Here $\\epsilon$ should be a random variable with normal distribution, mean 0, and standard deviation 1.  Your result should be a new list of 50 ordered pairs $(c,n_e)$.  \n",
    "\n",
    "Again, your simulated data should not predict negative numbers of Nobel laureates."
   ]
  },
  {
   "cell_type": "code",
   "execution_count": 22,
   "metadata": {
    "collapsed": false
   },
   "outputs": [
    {
     "name": "stdout",
     "output_type": "stream",
     "text": [
      "[[2.03, 0], [2.78, 0.3], [9.18, 3.48], [1.85, 0.83], [6.03, 1.12], [3.68, 0.17], [4.93, 0.5], [0.47, 0.07], [4.77, 0.45], [13.55, 4.22], [8.54, 2.19], [3.08, 0], [4.07, 0.1], [5.8, 1.09], [12.58, 4.14], [2.51, 0], [5.48, 2.82], [11.75, 4.52], [13.47, 4.38], [1.21, 0], [4.15, 0.96], [13.0, 4.72], [11.76, 3.09], [12.07, 4.76], [1.84, 0], [6.87, 0.57], [4.66, 0], [11.8, 4.27], [8.08, 1.29], [7.09, 3.13], [2.44, 0.66], [1.67, 0], [0.77, 0.68], [2.28, 0], [10.17, 2.92], [2.78, 0], [12.4, 1.68], [9.24, 3.85], [1.52, 0], [12.95, 2.78], [4.34, 1.73], [5.5, 2.33], [2.26, 0], [12.32, 4.31], [0.57, 0], [4.12, 0.66], [2.73, 0], [3.21, 1.91], [10.92, 3.59], [9.98, 3.53]]\n"
     ]
    }
   ],
   "source": [
    "random_choc_nobel_new = []\n",
    "for i in range(0,len(random_choc_nobel)):\n",
    "    r=random.normalvariate(0, 1)\n",
    "    newnobel =round(random_choc_nobel[i][1]+r,2)\n",
    "    if newnobel<0:\n",
    "        newnobel=0\n",
    "    newrecord=[random_choc_nobel[i][0],newnobel]\n",
    "    random_choc_nobel_new.append(newrecord)\n",
    "print random_choc_nobel_new\n"
   ]
  },
  {
   "cell_type": "markdown",
   "metadata": {},
   "source": [
    "# Problem 3(c).  Winners and losers.\n",
    "\n",
    "Make a new list consisting of all of the ordered pairs from your list in part (b) such that $n_e > 0.4\\cdot c -0.8$.  How many items are in your list of winners?"
   ]
  },
  {
   "cell_type": "code",
   "execution_count": 23,
   "metadata": {
    "collapsed": false
   },
   "outputs": [
    {
     "name": "stdout",
     "output_type": "stream",
     "text": [
      "[[9.18, 3.48], [1.85, 0.83], [0.47, 0.07], [5.48, 2.82], [11.75, 4.52], [4.15, 0.96], [13.0, 4.72], [12.07, 4.76], [11.8, 4.27], [7.09, 3.13], [2.44, 0.66], [0.77, 0.68], [9.24, 3.85], [4.34, 1.73], [5.5, 2.33], [12.32, 4.31], [3.21, 1.91], [10.92, 3.59], [9.98, 3.53]]\n",
      "There are 19 winners.\n"
     ]
    }
   ],
   "source": [
    "winners = []\n",
    "for i in range(0,len(random_choc_nobel)):\n",
    "    if random_choc_nobel_new[i][1]>random_choc_nobel[i][1]:\n",
    "        winners.append(random_choc_nobel_new[i])\n",
    "print winners\n",
    "print 'There are', len(winners), 'winners.'"
   ]
  },
  {
   "cell_type": "markdown",
   "metadata": {},
   "source": [
    "# Problem 3(d). Preparing for R.\n",
    "\n",
    "For future use, split your list of ordered pairs into two lists.  The first list should contain the $c$ values, and the second list should contain the $n_e$ values."
   ]
  },
  {
   "cell_type": "code",
   "execution_count": 24,
   "metadata": {
    "collapsed": false
   },
   "outputs": [
    {
     "name": "stdout",
     "output_type": "stream",
     "text": [
      "[2.03, 2.78, 9.18, 1.85, 6.03, 3.68, 4.93, 0.47, 4.77, 13.55, 8.54, 3.08, 4.07, 5.8, 12.58, 2.51, 5.48, 11.75, 13.47, 1.21, 4.15, 13.0, 11.76, 12.07, 1.84, 6.87, 4.66, 11.8, 8.08, 7.09, 2.44, 1.67, 0.77, 2.28, 10.17, 2.78, 12.4, 9.24, 1.52, 12.95, 4.34, 5.5, 2.26, 12.32, 0.57, 4.12, 2.73, 3.21, 10.92, 9.98]\n",
      "[0, 0.3, 3.48, 0.83, 1.12, 0.17, 0.5, 0.07, 0.45, 4.22, 2.19, 0, 0.1, 1.09, 4.14, 0, 2.82, 4.52, 4.38, 0, 0.96, 4.72, 3.09, 4.76, 0, 0.57, 0, 4.27, 1.29, 3.13, 0.66, 0, 0.68, 0, 2.92, 0, 1.68, 3.85, 0, 2.78, 1.73, 2.33, 0, 4.31, 0, 0.66, 0, 1.91, 3.59, 3.53]\n"
     ]
    }
   ],
   "source": [
    "cvalues=[]\n",
    "nvalues=[]\n",
    "for i in range(0,len(random_choc_nobel_new)):\n",
    "    cvalues.append(random_choc_nobel_new[i][0])\n",
    "    nvalues.append(random_choc_nobel_new[i][1])\n",
    "print cvalues\n",
    "print nvalues"
   ]
  },
  {
   "cell_type": "code",
   "execution_count": null,
   "metadata": {
    "collapsed": true
   },
   "outputs": [],
   "source": []
  }
 ],
 "metadata": {
  "kernelspec": {
   "display_name": "Python [Root]",
   "language": "python",
   "name": "Python [Root]"
  },
  "language_info": {
   "codemirror_mode": {
    "name": "ipython",
    "version": 2
   },
   "file_extension": ".py",
   "mimetype": "text/x-python",
   "name": "python",
   "nbconvert_exporter": "python",
   "pygments_lexer": "ipython2",
   "version": "2.7.12"
  }
 },
 "nbformat": 4,
 "nbformat_minor": 0
}
